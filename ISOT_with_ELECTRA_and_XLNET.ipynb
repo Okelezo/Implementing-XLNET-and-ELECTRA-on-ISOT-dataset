{
  "cells": [
    {
      "cell_type": "markdown",
      "metadata": {
        "id": "XJewPIi5vKbb"
      },
      "source": [
        "In this project, we will use two datasets, ISOT and LIAR to investigate the problem of detection of fake news in social media platforms. We will use two recent powerful networks such as ELECTRA and XLNET for this problem. \n",
        "\n",
        "dataset from https://www.kaggle.com/datasets/csmalarkodi/isot-fake-news-dataset"
      ]
    },
    {
      "cell_type": "markdown",
      "metadata": {
        "id": "wqKeK7K25AUt"
      },
      "source": [
        "**ISOT DATASET**"
      ]
    },
    {
      "cell_type": "markdown",
      "metadata": {
        "id": "5TPlQYV307Qy"
      },
      "source": [
        "https://ai.googleblog.com/2020/03/more-efficient-nlp-model-pre-training.html"
      ]
    },
    {
      "cell_type": "markdown",
      "metadata": {
        "id": "TCMy0oiE07-S"
      },
      "source": [
        "https://github.com/google-research/electra"
      ]
    },
    {
      "cell_type": "code",
      "execution_count": null,
      "metadata": {
        "colab": {
          "base_uri": "https://localhost:8080/"
        },
        "execution": {
          "iopub.execute_input": "2023-05-04T16:07:43.416816Z",
          "iopub.status.busy": "2023-05-04T16:07:43.416325Z",
          "iopub.status.idle": "2023-05-04T16:07:52.711275Z",
          "shell.execute_reply": "2023-05-04T16:07:52.710352Z",
          "shell.execute_reply.started": "2023-05-04T16:07:43.416792Z"
        },
        "id": "3J6nCziwvNEj",
        "outputId": "7539aa1a-cc6f-4cbb-b1ed-568bc4a6ea88"
      },
      "outputs": [
        {
          "name": "stderr",
          "output_type": "stream",
          "text": [
            "[nltk_data] Downloading package punkt to /root/nltk_data...\n",
            "[nltk_data]   Unzipping tokenizers/punkt.zip.\n"
          ]
        },
        {
          "name": "stdout",
          "output_type": "stream",
          "text": [
            "Requirement already satisfied: transformers in /usr/local/lib/python3.9/dist-packages (4.21.3)\n",
            "Requirement already satisfied: sentencepiece in /usr/local/lib/python3.9/dist-packages (0.1.97)\n",
            "Requirement already satisfied: regex!=2019.12.17 in /usr/local/lib/python3.9/dist-packages (from transformers) (2022.10.31)\n",
            "Requirement already satisfied: tqdm>=4.27 in /usr/local/lib/python3.9/dist-packages (from transformers) (4.64.1)\n",
            "Requirement already satisfied: requests in /usr/local/lib/python3.9/dist-packages (from transformers) (2.28.2)\n",
            "Requirement already satisfied: numpy>=1.17 in /usr/local/lib/python3.9/dist-packages (from transformers) (1.23.4)\n",
            "Requirement already satisfied: tokenizers!=0.11.3,<0.13,>=0.11.1 in /usr/local/lib/python3.9/dist-packages (from transformers) (0.12.1)\n",
            "Requirement already satisfied: pyyaml>=5.1 in /usr/local/lib/python3.9/dist-packages (from transformers) (5.4.1)\n",
            "Requirement already satisfied: packaging>=20.0 in /usr/local/lib/python3.9/dist-packages (from transformers) (23.0)\n",
            "Requirement already satisfied: filelock in /usr/local/lib/python3.9/dist-packages (from transformers) (3.9.0)\n",
            "Requirement already satisfied: huggingface-hub<1.0,>=0.1.0 in /usr/local/lib/python3.9/dist-packages (from transformers) (0.12.0)\n",
            "Requirement already satisfied: typing-extensions>=3.7.4.3 in /usr/local/lib/python3.9/dist-packages (from huggingface-hub<1.0,>=0.1.0->transformers) (4.4.0)\n",
            "Requirement already satisfied: idna<4,>=2.5 in /usr/lib/python3/dist-packages (from requests->transformers) (2.8)\n",
            "Requirement already satisfied: certifi>=2017.4.17 in /usr/lib/python3/dist-packages (from requests->transformers) (2019.11.28)\n",
            "Requirement already satisfied: charset-normalizer<4,>=2 in /usr/local/lib/python3.9/dist-packages (from requests->transformers) (2.1.1)\n",
            "Requirement already satisfied: urllib3<1.27,>=1.21.1 in /usr/local/lib/python3.9/dist-packages (from requests->transformers) (1.26.14)\n",
            "\u001b[33mWARNING: Running pip as the 'root' user can result in broken permissions and conflicting behaviour with the system package manager. It is recommended to use a virtual environment instead: https://pip.pypa.io/warnings/venv\u001b[0m\u001b[33m\n",
            "\u001b[0mCollecting pytorch-transformers\n",
            "  Downloading pytorch_transformers-1.2.0-py3-none-any.whl (176 kB)\n",
            "\u001b[2K     \u001b[90m━━━━━━━━━━━━━━━━━━━━━━━━━━━━━━━━━━━━━━\u001b[0m \u001b[32m176.4/176.4 kB\u001b[0m \u001b[31m24.4 MB/s\u001b[0m eta \u001b[36m0:00:00\u001b[0m\n",
            "\u001b[?25hRequirement already satisfied: regex in /usr/local/lib/python3.9/dist-packages (from pytorch-transformers) (2022.10.31)\n",
            "Collecting sacremoses\n",
            "  Downloading sacremoses-0.0.53.tar.gz (880 kB)\n",
            "\u001b[2K     \u001b[90m━━━━━━━━━━━━━━━━━━━━━━━━━━━━━━━━━━━━━━\u001b[0m \u001b[32m880.6/880.6 kB\u001b[0m \u001b[31m73.9 MB/s\u001b[0m eta \u001b[36m0:00:00\u001b[0m\n",
            "\u001b[?25h  Preparing metadata (setup.py) ... \u001b[?25ldone\n",
            "\u001b[?25hRequirement already satisfied: boto3 in /usr/local/lib/python3.9/dist-packages (from pytorch-transformers) (1.24.90)\n",
            "Requirement already satisfied: requests in /usr/local/lib/python3.9/dist-packages (from pytorch-transformers) (2.28.2)\n",
            "Requirement already satisfied: numpy in /usr/local/lib/python3.9/dist-packages (from pytorch-transformers) (1.23.4)\n",
            "Requirement already satisfied: tqdm in /usr/local/lib/python3.9/dist-packages (from pytorch-transformers) (4.64.1)\n",
            "Requirement already satisfied: torch>=1.0.0 in /usr/local/lib/python3.9/dist-packages (from pytorch-transformers) (1.12.1+cu116)\n",
            "Requirement already satisfied: sentencepiece in /usr/local/lib/python3.9/dist-packages (from pytorch-transformers) (0.1.97)\n",
            "Requirement already satisfied: typing-extensions in /usr/local/lib/python3.9/dist-packages (from torch>=1.0.0->pytorch-transformers) (4.4.0)\n",
            "Requirement already satisfied: jmespath<2.0.0,>=0.7.1 in /usr/local/lib/python3.9/dist-packages (from boto3->pytorch-transformers) (1.0.1)\n",
            "Requirement already satisfied: s3transfer<0.7.0,>=0.6.0 in /usr/local/lib/python3.9/dist-packages (from boto3->pytorch-transformers) (0.6.0)\n",
            "Requirement already satisfied: botocore<1.28.0,>=1.27.90 in /usr/local/lib/python3.9/dist-packages (from boto3->pytorch-transformers) (1.27.90)\n",
            "Requirement already satisfied: idna<4,>=2.5 in /usr/lib/python3/dist-packages (from requests->pytorch-transformers) (2.8)\n",
            "Requirement already satisfied: urllib3<1.27,>=1.21.1 in /usr/local/lib/python3.9/dist-packages (from requests->pytorch-transformers) (1.26.14)\n",
            "Requirement already satisfied: certifi>=2017.4.17 in /usr/lib/python3/dist-packages (from requests->pytorch-transformers) (2019.11.28)\n",
            "Requirement already satisfied: charset-normalizer<4,>=2 in /usr/local/lib/python3.9/dist-packages (from requests->pytorch-transformers) (2.1.1)\n",
            "Requirement already satisfied: six in /usr/lib/python3/dist-packages (from sacremoses->pytorch-transformers) (1.14.0)\n",
            "Requirement already satisfied: click in /usr/local/lib/python3.9/dist-packages (from sacremoses->pytorch-transformers) (8.1.3)\n",
            "Requirement already satisfied: joblib in /usr/local/lib/python3.9/dist-packages (from sacremoses->pytorch-transformers) (1.2.0)\n",
            "Requirement already satisfied: python-dateutil<3.0.0,>=2.1 in /usr/local/lib/python3.9/dist-packages (from botocore<1.28.0,>=1.27.90->boto3->pytorch-transformers) (2.8.2)\n",
            "Building wheels for collected packages: sacremoses\n",
            "  Building wheel for sacremoses (setup.py) ... \u001b[?25ldone\n",
            "\u001b[?25h  Created wheel for sacremoses: filename=sacremoses-0.0.53-py3-none-any.whl size=895242 sha256=931f057a3bc4f5b4297606a2a9f7e3718d0815e29d12f84b6cde53c27242ea3b\n",
            "  Stored in directory: /root/.cache/pip/wheels/42/79/78/5ad3b042cb2d97c294535162cdbaf9b167e3b186eae55ab72d\n",
            "Successfully built sacremoses\n",
            "Installing collected packages: sacremoses, pytorch-transformers\n",
            "Successfully installed pytorch-transformers-1.2.0 sacremoses-0.0.53\n",
            "\u001b[33mWARNING: Running pip as the 'root' user can result in broken permissions and conflicting behaviour with the system package manager. It is recommended to use a virtual environment instead: https://pip.pypa.io/warnings/venv\u001b[0m\u001b[33m\n",
            "\u001b[0m"
          ]
        }
      ],
      "source": [
        "# Packages imported\n",
        "import pandas as pd\n",
        "import numpy as np\n",
        "import torch\n",
        "import torch.nn as nn\n",
        "import torch.nn.functional as F\n",
        "import torch.utils.data.dataloader as dataloader\n",
        "import torch.optim as optim\n",
        "import re\n",
        "import nltk\n",
        "nltk.download('punkt')\n",
        "from nltk.tokenize import word_tokenize\n",
        "\n",
        "from torch.utils.data import TensorDataset\n",
        "from torchvision import transforms\n",
        "import torchvision\n",
        "\n",
        "import matplotlib.pyplot as plt\n",
        "import time\n",
        "from IPython.display import clear_output\n",
        "\n",
        "!pip install transformers sentencepiece\n",
        "!pip install pytorch-transformers\n",
        "\n",
        "device = torch.device(\"cuda\" if torch.cuda.is_available() else \"cpu\")\n"
      ]
    },
    {
      "cell_type": "markdown",
      "metadata": {
        "id": "eO_vd4MnuqI4"
      },
      "source": [
        "tr -dc '[:print:]\\n' < file > newfile"
      ]
    },
    {
      "cell_type": "code",
      "execution_count": null,
      "metadata": {
        "execution": {
          "iopub.execute_input": "2023-05-04T16:07:54.867875Z",
          "iopub.status.busy": "2023-05-04T16:07:54.866754Z",
          "iopub.status.idle": "2023-05-04T16:07:56.006246Z",
          "shell.execute_reply": "2023-05-04T16:07:56.005351Z",
          "shell.execute_reply.started": "2023-05-04T16:07:54.867841Z"
        },
        "id": "F-rcsO2VvNRK"
      },
      "outputs": [],
      "source": [
        "# Load datasets\n",
        "fake_df = pd.read_csv(\"/notebooks/Fake.csv\")\n",
        "\n",
        "\n",
        "real_df = pd.read_csv(\"/notebooks/True.csv\")\n",
        "\n",
        "\n"
      ]
    },
    {
      "cell_type": "code",
      "execution_count": null,
      "metadata": {
        "execution": {
          "iopub.execute_input": "2023-05-04T16:07:58.460973Z",
          "iopub.status.busy": "2023-05-04T16:07:58.460352Z",
          "iopub.status.idle": "2023-05-04T16:07:58.485530Z",
          "shell.execute_reply": "2023-05-04T16:07:58.484889Z",
          "shell.execute_reply.started": "2023-05-04T16:07:58.460946Z"
        },
        "id": "YylosnaO0Mid"
      },
      "outputs": [],
      "source": [
        "# Select the title and text columns from each DataFrame\n",
        "fake_df = fake_df[['title', 'text']]\n",
        "real_df = real_df[['title', 'text']]"
      ]
    },
    {
      "cell_type": "code",
      "execution_count": null,
      "metadata": {
        "colab": {
          "base_uri": "https://localhost:8080/"
        },
        "execution": {
          "iopub.execute_input": "2023-05-04T16:07:59.457243Z",
          "iopub.status.busy": "2023-05-04T16:07:59.456515Z",
          "iopub.status.idle": "2023-05-04T16:07:59.463700Z",
          "shell.execute_reply": "2023-05-04T16:07:59.463166Z",
          "shell.execute_reply.started": "2023-05-04T16:07:59.457220Z"
        },
        "id": "QALe-iIR0Mmj",
        "outputId": "163f036d-bf26-4880-95d1-0837a847cd1b"
      },
      "outputs": [
        {
          "name": "stdout",
          "output_type": "stream",
          "text": [
            "                                               title  \\\n",
            "0   Donald Trump Sends Out Embarrassing New Year’...   \n",
            "\n",
            "                                                text  \n",
            "0  Donald Trump just couldn t wish all Americans ...  \n"
          ]
        }
      ],
      "source": [
        "# Print the first few rows of the fake news DataFrame\n",
        "print(fake_df.head(1))"
      ]
    },
    {
      "cell_type": "code",
      "execution_count": null,
      "metadata": {
        "colab": {
          "base_uri": "https://localhost:8080/"
        },
        "execution": {
          "iopub.execute_input": "2023-05-04T16:08:01.479941Z",
          "iopub.status.busy": "2023-05-04T16:08:01.479536Z",
          "iopub.status.idle": "2023-05-04T16:08:01.485395Z",
          "shell.execute_reply": "2023-05-04T16:08:01.484511Z",
          "shell.execute_reply.started": "2023-05-04T16:08:01.479912Z"
        },
        "id": "Tb8EkP6i0Mp7",
        "outputId": "25fecfc7-7ed9-4039-c63a-9d0fc283418d"
      },
      "outputs": [
        {
          "name": "stdout",
          "output_type": "stream",
          "text": [
            "                                               title  \\\n",
            "0  As U.S. budget fight looms, Republicans flip t...   \n",
            "1  U.S. military to accept transgender recruits o...   \n",
            "2  Senior U.S. Republican senator: 'Let Mr. Muell...   \n",
            "3  FBI Russia probe helped by Australian diplomat...   \n",
            "4  Trump wants Postal Service to charge 'much mor...   \n",
            "\n",
            "                                                text  \n",
            "0  WASHINGTON (Reuters) - The head of a conservat...  \n",
            "1  WASHINGTON (Reuters) - Transgender people will...  \n",
            "2  WASHINGTON (Reuters) - The special counsel inv...  \n",
            "3  WASHINGTON (Reuters) - Trump campaign adviser ...  \n",
            "4  SEATTLE/WASHINGTON (Reuters) - President Donal...  \n"
          ]
        }
      ],
      "source": [
        "# Print the first few rows of the real news DataFrame\n",
        "print(real_df.head())"
      ]
    },
    {
      "cell_type": "code",
      "execution_count": null,
      "metadata": {
        "execution": {
          "iopub.execute_input": "2023-05-04T16:08:03.436104Z",
          "iopub.status.busy": "2023-05-04T16:08:03.435432Z",
          "iopub.status.idle": "2023-05-04T16:08:03.440239Z",
          "shell.execute_reply": "2023-05-04T16:08:03.439594Z",
          "shell.execute_reply.started": "2023-05-04T16:08:03.436078Z"
        },
        "id": "XNyveN4h5FBN"
      },
      "outputs": [],
      "source": [
        "fake_df['class'] = 0\n",
        "real_df['class'] = 1"
      ]
    },
    {
      "cell_type": "code",
      "execution_count": null,
      "metadata": {
        "execution": {
          "iopub.execute_input": "2023-05-04T16:08:04.204551Z",
          "iopub.status.busy": "2023-05-04T16:08:04.203845Z",
          "iopub.status.idle": "2023-05-04T16:08:04.210228Z",
          "shell.execute_reply": "2023-05-04T16:08:04.209585Z",
          "shell.execute_reply.started": "2023-05-04T16:08:04.204512Z"
        },
        "id": "Cmv5QxB25FTs"
      },
      "outputs": [],
      "source": [
        "df = pd.concat([fake_df, real_df], ignore_index=True, sort=False)"
      ]
    },
    {
      "cell_type": "code",
      "execution_count": null,
      "metadata": {
        "execution": {
          "iopub.execute_input": "2023-05-04T16:08:04.978507Z",
          "iopub.status.busy": "2023-05-04T16:08:04.977847Z",
          "iopub.status.idle": "2023-05-04T16:08:04.991039Z",
          "shell.execute_reply": "2023-05-04T16:08:04.990427Z",
          "shell.execute_reply.started": "2023-05-04T16:08:04.978478Z"
        },
        "id": "47nU5003Q6u5"
      },
      "outputs": [],
      "source": [
        "# Shuffle the dataset\n",
        "df = df.sample(frac=1, random_state=42).reset_index(drop=True)"
      ]
    },
    {
      "cell_type": "code",
      "execution_count": null,
      "metadata": {
        "colab": {
          "base_uri": "https://localhost:8080/",
          "height": 363
        },
        "execution": {
          "iopub.execute_input": "2023-05-04T16:08:06.419212Z",
          "iopub.status.busy": "2023-05-04T16:08:06.418614Z",
          "iopub.status.idle": "2023-05-04T16:08:06.430267Z",
          "shell.execute_reply": "2023-05-04T16:08:06.429625Z",
          "shell.execute_reply.started": "2023-05-04T16:08:06.419188Z"
        },
        "id": "_Qw_GVom5FZE",
        "outputId": "5d510d5d-8067-422f-e92e-af16ff7e4fff"
      },
      "outputs": [
        {
          "data": {
            "text/html": [
              "<div>\n",
              "<style scoped>\n",
              "    .dataframe tbody tr th:only-of-type {\n",
              "        vertical-align: middle;\n",
              "    }\n",
              "\n",
              "    .dataframe tbody tr th {\n",
              "        vertical-align: top;\n",
              "    }\n",
              "\n",
              "    .dataframe thead th {\n",
              "        text-align: right;\n",
              "    }\n",
              "</style>\n",
              "<table border=\"1\" class=\"dataframe\">\n",
              "  <thead>\n",
              "    <tr style=\"text-align: right;\">\n",
              "      <th></th>\n",
              "      <th>title</th>\n",
              "      <th>text</th>\n",
              "      <th>class</th>\n",
              "    </tr>\n",
              "  </thead>\n",
              "  <tbody>\n",
              "    <tr>\n",
              "      <th>0</th>\n",
              "      <td>Ben Stein Calls Out 9th Circuit Court: Committ...</td>\n",
              "      <td>21st Century Wire says Ben Stein, reputable pr...</td>\n",
              "      <td>0</td>\n",
              "    </tr>\n",
              "    <tr>\n",
              "      <th>1</th>\n",
              "      <td>Trump drops Steve Bannon from National Securit...</td>\n",
              "      <td>WASHINGTON (Reuters) - U.S. President Donald T...</td>\n",
              "      <td>1</td>\n",
              "    </tr>\n",
              "    <tr>\n",
              "      <th>2</th>\n",
              "      <td>Puerto Rico expects U.S. to lift Jones Act shi...</td>\n",
              "      <td>(Reuters) - Puerto Rico Governor Ricardo Rosse...</td>\n",
              "      <td>1</td>\n",
              "    </tr>\n",
              "    <tr>\n",
              "      <th>3</th>\n",
              "      <td>OOPS: Trump Just Accidentally Confirmed He Le...</td>\n",
              "      <td>On Monday, Donald Trump once again embarrassed...</td>\n",
              "      <td>0</td>\n",
              "    </tr>\n",
              "    <tr>\n",
              "      <th>4</th>\n",
              "      <td>Donald Trump heads for Scotland to reopen a go...</td>\n",
              "      <td>GLASGOW, Scotland (Reuters) - Most U.S. presid...</td>\n",
              "      <td>1</td>\n",
              "    </tr>\n",
              "    <tr>\n",
              "      <th>5</th>\n",
              "      <td>Paul Ryan Responds To Dem’s Sit-In On Gun Con...</td>\n",
              "      <td>On Wednesday, Democrats took a powerful stance...</td>\n",
              "      <td>0</td>\n",
              "    </tr>\n",
              "    <tr>\n",
              "      <th>6</th>\n",
              "      <td>AWESOME! DIAMOND AND SILK Rip Into The Press: ...</td>\n",
              "      <td>President Trump s rally in FL on Saturday was ...</td>\n",
              "      <td>0</td>\n",
              "    </tr>\n",
              "    <tr>\n",
              "      <th>7</th>\n",
              "      <td>STAND UP AND CHEER! UKIP Party Leader SLAMS Ge...</td>\n",
              "      <td>He s been Europe s version of the outspoken Te...</td>\n",
              "      <td>0</td>\n",
              "    </tr>\n",
              "    <tr>\n",
              "      <th>8</th>\n",
              "      <td>North Korea shows no sign it is serious about ...</td>\n",
              "      <td>WASHINGTON (Reuters) - The State Department sa...</td>\n",
              "      <td>1</td>\n",
              "    </tr>\n",
              "    <tr>\n",
              "      <th>9</th>\n",
              "      <td>Trump signals willingness to raise U.S. minimu...</td>\n",
              "      <td>(This version of the story corrects the figur...</td>\n",
              "      <td>1</td>\n",
              "    </tr>\n",
              "  </tbody>\n",
              "</table>\n",
              "</div>"
            ],
            "text/plain": [
              "                                               title  \\\n",
              "0  Ben Stein Calls Out 9th Circuit Court: Committ...   \n",
              "1  Trump drops Steve Bannon from National Securit...   \n",
              "2  Puerto Rico expects U.S. to lift Jones Act shi...   \n",
              "3   OOPS: Trump Just Accidentally Confirmed He Le...   \n",
              "4  Donald Trump heads for Scotland to reopen a go...   \n",
              "5   Paul Ryan Responds To Dem’s Sit-In On Gun Con...   \n",
              "6  AWESOME! DIAMOND AND SILK Rip Into The Press: ...   \n",
              "7  STAND UP AND CHEER! UKIP Party Leader SLAMS Ge...   \n",
              "8  North Korea shows no sign it is serious about ...   \n",
              "9  Trump signals willingness to raise U.S. minimu...   \n",
              "\n",
              "                                                text  class  \n",
              "0  21st Century Wire says Ben Stein, reputable pr...      0  \n",
              "1  WASHINGTON (Reuters) - U.S. President Donald T...      1  \n",
              "2  (Reuters) - Puerto Rico Governor Ricardo Rosse...      1  \n",
              "3  On Monday, Donald Trump once again embarrassed...      0  \n",
              "4  GLASGOW, Scotland (Reuters) - Most U.S. presid...      1  \n",
              "5  On Wednesday, Democrats took a powerful stance...      0  \n",
              "6  President Trump s rally in FL on Saturday was ...      0  \n",
              "7  He s been Europe s version of the outspoken Te...      0  \n",
              "8  WASHINGTON (Reuters) - The State Department sa...      1  \n",
              "9   (This version of the story corrects the figur...      1  "
            ]
          },
          "execution_count": 9,
          "metadata": {},
          "output_type": "execute_result"
        }
      ],
      "source": [
        "df.head(10)"
      ]
    },
    {
      "cell_type": "code",
      "execution_count": null,
      "metadata": {
        "colab": {
          "base_uri": "https://localhost:8080/"
        },
        "execution": {
          "iopub.execute_input": "2023-05-04T16:08:09.592547Z",
          "iopub.status.busy": "2023-05-04T16:08:09.592228Z",
          "iopub.status.idle": "2023-05-04T16:08:09.603448Z",
          "shell.execute_reply": "2023-05-04T16:08:09.602783Z",
          "shell.execute_reply.started": "2023-05-04T16:08:09.592524Z"
        },
        "id": "s7fZEsCH5Fi0",
        "outputId": "141f22ff-c8a0-490c-be74-eb7d6cbf8ce1"
      },
      "outputs": [
        {
          "name": "stdout",
          "output_type": "stream",
          "text": [
            "0    23481\n",
            "1    21417\n",
            "Name: class, dtype: int64\n"
          ]
        }
      ],
      "source": [
        "print(df['class'].value_counts())"
      ]
    },
    {
      "cell_type": "code",
      "execution_count": null,
      "metadata": {
        "execution": {
          "iopub.execute_input": "2023-05-04T16:08:10.822223Z",
          "iopub.status.busy": "2023-05-04T16:08:10.821441Z",
          "iopub.status.idle": "2023-05-04T16:08:10.826560Z",
          "shell.execute_reply": "2023-05-04T16:08:10.825984Z",
          "shell.execute_reply.started": "2023-05-04T16:08:10.822198Z"
        },
        "id": "rGdas7tE55k0"
      },
      "outputs": [],
      "source": [
        "# Clean the text, remove special characters, URLs, numbers, and extra spaces.\n",
        "\n",
        "import re\n",
        "\n",
        "def clean_text(text):\n",
        "  \"\"\"Cleans a text string by removing special characters, URLs, numbers, and extra spaces.\n",
        "\n",
        "  Args:\n",
        "    text: The text string to clean.\n",
        "\n",
        "  Returns:\n",
        "    The cleaned text string.\n",
        "  \"\"\"\n",
        "\n",
        "  # Remove special characters.\n",
        "  text = re.sub('[^\\w\\s]', '', text)\n",
        "\n",
        "  # Remove URLs.\n",
        "  text = re.sub('https?://\\S+', '', text)\n",
        "\n",
        "  # Remove numbers.\n",
        "  text = re.sub('\\d+', '', text)\n",
        "\n",
        "  # Remove extra spaces.\n",
        "  text = re.sub(' +', ' ', text)\n",
        "\n",
        "  # Convert the text to lower case.\n",
        "  text = text.lower()\n",
        "\n",
        "  return text\n",
        "\n",
        "# Convert the text to lower case and tokenize it.\n",
        "\n",
        "from nltk.tokenize import word_tokenize\n",
        "\n",
        "def tokenize_text(text):\n",
        "  \"\"\"Tokenizes a text string.\n",
        "\n",
        "  Args:\n",
        "    text: The text string to tokenize.\n",
        "\n",
        "  Returns:\n",
        "    The tokens in the text string.\n",
        "  \"\"\"\n",
        "\n",
        "  return word_tokenize(text)\n",
        "\n"
      ]
    },
    {
      "cell_type": "code",
      "execution_count": null,
      "metadata": {
        "execution": {
          "iopub.execute_input": "2023-05-04T16:10:16.873568Z",
          "iopub.status.busy": "2023-05-04T16:10:16.872654Z",
          "iopub.status.idle": "2023-05-04T16:11:01.195001Z",
          "shell.execute_reply": "2023-05-04T16:11:01.194367Z",
          "shell.execute_reply.started": "2023-05-04T16:10:16.873539Z"
        },
        "id": "olj5X99Z55sC"
      },
      "outputs": [],
      "source": [
        "# Clean the text in the `text` column.\n",
        "\n",
        "df['text'] = df['text'].apply(clean_text)\n",
        "\n",
        "# Tokenize the text in the `text` column.\n",
        "\n",
        "df['tokens'] = df['text'].apply(tokenize_text)\n"
      ]
    },
    {
      "cell_type": "code",
      "execution_count": null,
      "metadata": {
        "colab": {
          "base_uri": "https://localhost:8080/"
        },
        "execution": {
          "iopub.execute_input": "2023-05-04T16:11:01.197700Z",
          "iopub.status.busy": "2023-05-04T16:11:01.197224Z",
          "iopub.status.idle": "2023-05-04T16:11:46.904284Z",
          "shell.execute_reply": "2023-05-04T16:11:46.903734Z",
          "shell.execute_reply.started": "2023-05-04T16:11:01.197677Z"
        },
        "id": "XYcluoYX86tH",
        "outputId": "7232069e-4e85-4a0b-9514-9a233e80487c"
      },
      "outputs": [
        {
          "name": "stderr",
          "output_type": "stream",
          "text": [
            "[nltk_data] Downloading package stopwords to /root/nltk_data...\n",
            "[nltk_data]   Unzipping corpora/stopwords.zip.\n",
            "[nltk_data] Downloading package punkt to /root/nltk_data...\n",
            "[nltk_data]   Package punkt is already up-to-date!\n"
          ]
        }
      ],
      "source": [
        "from nltk.corpus import stopwords\n",
        "from nltk.tokenize import word_tokenize\n",
        "\n",
        "\n",
        "nltk.download('stopwords')\n",
        "nltk.download('punkt')\n",
        "\n",
        "def remove_stopwords(tokens):\n",
        "  stop_words = set(stopwords.words('english'))\n",
        "  filtered_tokens = [token for token in tokens if token not in stop_words]\n",
        "  return filtered_tokens\n",
        "\n",
        "\n",
        "df['tokens'] = df['text'].apply(word_tokenize)\n",
        "\n",
        "\n",
        "df['tokens_no_stopwords'] = df['tokens'].apply(remove_stopwords)\n",
        "\n",
        "\n"
      ]
    },
    {
      "cell_type": "markdown",
      "metadata": {
        "id": "4FMP1nZIBW83"
      },
      "source": [
        "Perfrorm stemming/lemmitization"
      ]
    },
    {
      "cell_type": "code",
      "execution_count": null,
      "metadata": {
        "colab": {
          "base_uri": "https://localhost:8080/"
        },
        "execution": {
          "iopub.execute_input": "2023-05-04T16:11:46.905547Z",
          "iopub.status.busy": "2023-05-04T16:11:46.904938Z",
          "iopub.status.idle": "2023-05-04T16:11:52.288903Z",
          "shell.execute_reply": "2023-05-04T16:11:52.288348Z",
          "shell.execute_reply.started": "2023-05-04T16:11:46.905527Z"
        },
        "id": "Su6yvWBJ55va",
        "outputId": "e15a6180-ec1e-4869-bb97-e697b54d909a"
      },
      "outputs": [
        {
          "name": "stderr",
          "output_type": "stream",
          "text": [
            "[nltk_data] Downloading package punkt to /root/nltk_data...\n",
            "[nltk_data]   Package punkt is already up-to-date!\n",
            "[nltk_data] Downloading package wordnet to /root/nltk_data...\n",
            "[nltk_data] Downloading package averaged_perceptron_tagger to\n",
            "[nltk_data]     /root/nltk_data...\n",
            "[nltk_data]   Unzipping taggers/averaged_perceptron_tagger.zip.\n",
            "[nltk_data] Downloading package omw-1.4 to /root/nltk_data...\n"
          ]
        },
        {
          "data": {
            "text/plain": [
              "True"
            ]
          },
          "execution_count": 15,
          "metadata": {},
          "output_type": "execute_result"
        }
      ],
      "source": [
        "from nltk.stem import PorterStemmer, WordNetLemmatizer\n",
        "from nltk.corpus import wordnet\n",
        "\n",
        "nltk.download('punkt')\n",
        "nltk.download('wordnet')\n",
        "nltk.download('averaged_perceptron_tagger')\n",
        "nltk.download('omw-1.4')\n",
        "\n"
      ]
    },
    {
      "cell_type": "code",
      "execution_count": null,
      "metadata": {
        "execution": {
          "iopub.execute_input": "2023-05-04T16:11:52.291272Z",
          "iopub.status.busy": "2023-05-04T16:11:52.290289Z",
          "iopub.status.idle": "2023-05-04T16:11:52.296734Z",
          "shell.execute_reply": "2023-05-04T16:11:52.296240Z",
          "shell.execute_reply.started": "2023-05-04T16:11:52.291237Z"
        },
        "id": "PDF-H28655yr"
      },
      "outputs": [],
      "source": [
        "# Function for stemming\n",
        "def stemming(text):\n",
        "    stemmer = PorterStemmer()\n",
        "    stemmed_text = ' '.join([stemmer.stem(word) for word in text.split()])\n",
        "    return stemmed_text\n",
        "\n",
        "# Function for lemmatization\n",
        "def lemmatization(text):\n",
        "    lemmatizer = WordNetLemmatizer()\n",
        "    lemmatized_text = ' '.join([lemmatizer.lemmatize(word, get_wordnet_pos(tag)) for word, tag in nltk.pos_tag(nltk.word_tokenize(text))])\n",
        "    return lemmatized_text\n",
        "\n",
        "# Function for mapping NLTK POS tags to WordNet POS tags\n",
        "def get_wordnet_pos(treebank_tag):\n",
        "    if treebank_tag.startswith('J'):\n",
        "        return wordnet.ADJ\n",
        "    elif treebank_tag.startswith('V'):\n",
        "        return wordnet.VERB\n",
        "    elif treebank_tag.startswith('N'):\n",
        "        return wordnet.NOUN\n",
        "    elif treebank_tag.startswith('R'):\n",
        "        return wordnet.ADV\n",
        "    else:\n",
        "        return wordnet.NOUN\n"
      ]
    },
    {
      "cell_type": "code",
      "execution_count": null,
      "metadata": {
        "execution": {
          "iopub.execute_input": "2023-05-04T16:11:52.297780Z",
          "iopub.status.busy": "2023-05-04T16:11:52.297400Z",
          "iopub.status.idle": "2023-05-04T16:20:21.181460Z",
          "shell.execute_reply": "2023-05-04T16:20:21.180780Z",
          "shell.execute_reply.started": "2023-05-04T16:11:52.297758Z"
        },
        "id": "RLDy24GtPXyx"
      },
      "outputs": [],
      "source": [
        "df['text'] = df['text'].apply(lemmatization)\n"
      ]
    },
    {
      "cell_type": "markdown",
      "metadata": {
        "id": "R503ai9QBkHW"
      },
      "source": [
        "Split the dataset"
      ]
    },
    {
      "cell_type": "code",
      "execution_count": null,
      "metadata": {
        "execution": {
          "iopub.execute_input": "2023-05-04T16:20:21.183028Z",
          "iopub.status.busy": "2023-05-04T16:20:21.182801Z",
          "iopub.status.idle": "2023-05-04T16:20:21.207982Z",
          "shell.execute_reply": "2023-05-04T16:20:21.207313Z",
          "shell.execute_reply.started": "2023-05-04T16:20:21.183008Z"
        },
        "id": "vTslZBmtBqTW"
      },
      "outputs": [],
      "source": [
        "from sklearn.model_selection import train_test_split\n",
        "\n",
        "# Split the dataset into training, validation, and test sets (80-10-10)\n",
        "train_data, temp_data = train_test_split(df, test_size=0.2, random_state=42)\n",
        "valid_data, test_data = train_test_split(temp_data, test_size=0.5, random_state=42)\n",
        "\n",
        "# Reset the indices\n",
        "train_data = train_data.reset_index(drop=True)\n",
        "valid_data = valid_data.reset_index(drop=True)\n",
        "test_data = test_data.reset_index(drop=True)"
      ]
    },
    {
      "cell_type": "markdown",
      "metadata": {
        "id": "2Tm_A8ImBqvG"
      },
      "source": [
        "Text Encoding"
      ]
    },
    {
      "cell_type": "markdown",
      "metadata": {
        "id": "c9craiwSszfG"
      },
      "source": [
        "XLNet needs [SEP] [CLS] tags at the end of each sentence\n",
        "We add them by using following code"
      ]
    },
    {
      "cell_type": "code",
      "execution_count": null,
      "metadata": {
        "colab": {
          "base_uri": "https://localhost:8080/",
          "height": 81,
          "referenced_widgets": [
            "dbe618177d5248c8a599689e4e747020",
            "3e59909ab33043e6b96755f96c57ba96",
            "aaf223d256254a3c9de55ce208dc8eed",
            "2e4e8b90d56c43879572f09c19c4ab46",
            "241f4ca5d4dc494d849c54be79cae244",
            "9ab4073556b74e57818338cbe7818a2b",
            "b101815389a54d4d96ef121f7e738bfe",
            "5e1c87830fef4258a457412c71ae2550",
            "d7b668f34569464dbe5fff8602816a3c",
            "368ef626bdb143a8896d175482db8dee",
            "847186672c8b4f1faf835fa2a61fddbd",
            "a31a674182174439ae86011b662b95c6",
            "69652f3ffc0740479b908eef70960615",
            "27452dc4da7e4bbdb8e4be1104f42fb8",
            "e7026284b60e41f9aad7994a3de39dbb",
            "6921808a0f364b57897cb8001014b813",
            "bc327f23edf747c0aeb4f6dfe969f444",
            "df58834aea5a4dfe8fafa19db80a9696",
            "b51cf24fef0245bc9637da5c90013163",
            "54fc6dd144634245990e4b2e5b2be838",
            "6c59de5909fa41a1900d282000f3310b",
            "345cfb9f3ad843f6a53a80fa18912949",
            "48938a5c90b54bf4b5268ff3b744fa97",
            "a9aeebc999a842669878686c1b4cd246",
            "bdf42977cdba4c0999dd5e1fcff48b3b",
            "881c4d5fdeb847949a71a69a94afb6b9",
            "6141c26f4e824cc38db4db28cf6e8dcf"
          ]
        },
        "execution": {
          "iopub.execute_input": "2023-05-04T16:20:21.209046Z",
          "iopub.status.busy": "2023-05-04T16:20:21.208839Z",
          "iopub.status.idle": "2023-05-04T16:25:33.583101Z",
          "shell.execute_reply": "2023-05-04T16:25:33.582334Z",
          "shell.execute_reply.started": "2023-05-04T16:20:21.209027Z"
        },
        "id": "IS0UPkbRsqxz",
        "outputId": "032740fa-15a8-48b4-a8ad-47f48410ea07"
      },
      "outputs": [
        {
          "data": {
            "application/vnd.jupyter.widget-view+json": {
              "model_id": "48938a5c90b54bf4b5268ff3b744fa97",
              "version_major": 2,
              "version_minor": 0
            },
            "text/plain": [
              "Downloading vocab.txt:   0%|          | 0.00/226k [00:00<?, ?B/s]"
            ]
          },
          "metadata": {},
          "output_type": "display_data"
        },
        {
          "data": {
            "application/vnd.jupyter.widget-view+json": {
              "model_id": "a9aeebc999a842669878686c1b4cd246",
              "version_major": 2,
              "version_minor": 0
            },
            "text/plain": [
              "Downloading tokenizer_config.json:   0%|          | 0.00/27.0 [00:00<?, ?B/s]"
            ]
          },
          "metadata": {},
          "output_type": "display_data"
        },
        {
          "data": {
            "application/vnd.jupyter.widget-view+json": {
              "model_id": "bdf42977cdba4c0999dd5e1fcff48b3b",
              "version_major": 2,
              "version_minor": 0
            },
            "text/plain": [
              "Downloading config.json:   0%|          | 0.00/666 [00:00<?, ?B/s]"
            ]
          },
          "metadata": {},
          "output_type": "display_data"
        },
        {
          "data": {
            "application/vnd.jupyter.widget-view+json": {
              "model_id": "881c4d5fdeb847949a71a69a94afb6b9",
              "version_major": 2,
              "version_minor": 0
            },
            "text/plain": [
              "Downloading spiece.model:   0%|          | 0.00/779k [00:00<?, ?B/s]"
            ]
          },
          "metadata": {},
          "output_type": "display_data"
        },
        {
          "data": {
            "application/vnd.jupyter.widget-view+json": {
              "model_id": "6141c26f4e824cc38db4db28cf6e8dcf",
              "version_major": 2,
              "version_minor": 0
            },
            "text/plain": [
              "Downloading config.json:   0%|          | 0.00/760 [00:00<?, ?B/s]"
            ]
          },
          "metadata": {},
          "output_type": "display_data"
        }
      ],
      "source": [
        "from transformers import ElectraTokenizer, XLNetTokenizer\n",
        "\n",
        "# Load the pretrained tokenizers\n",
        "electra_tokenizer = ElectraTokenizer.from_pretrained('google/electra-base-discriminator')\n",
        "xlnet_tokenizer = XLNetTokenizer.from_pretrained('xlnet-base-cased')\n",
        "\n",
        "# Function to encode text data\n",
        "def encode_text_data(tokenizer, text_data, max_length, model_name=None):\n",
        "    if model_name == 'xlnet':\n",
        "        text_data = [text + \" [SEP] [CLS]\" for text in text_data]\n",
        "\n",
        "    encoded_data = tokenizer.batch_encode_plus(\n",
        "        text_data,\n",
        "        add_special_tokens=True,\n",
        "        truncation=True,\n",
        "        padding='max_length',\n",
        "        max_length=max_length,\n",
        "        return_attention_mask=True,\n",
        "        return_tensors='pt'\n",
        "    )\n",
        "    return encoded_data\n",
        "\n",
        "# Encode text data for ELECTRA\n",
        "max_length_electra = 256\n",
        "encoded_train_data_electra = encode_text_data(electra_tokenizer, train_data['text'].tolist(), max_length_electra)\n",
        "encoded_valid_data_electra = encode_text_data(electra_tokenizer, valid_data['text'].tolist(), max_length_electra)\n",
        "encoded_test_data_electra = encode_text_data(electra_tokenizer, test_data['text'].tolist(), max_length_electra)\n",
        "\n",
        "# Encode text data for XLNet\n",
        "max_length_xlnet = 256\n",
        "encoded_train_data_xlnet = encode_text_data(xlnet_tokenizer, train_data['text'].tolist(), max_length_xlnet, model_name='xlnet')\n",
        "encoded_valid_data_xlnet = encode_text_data(xlnet_tokenizer, valid_data['text'].tolist(), max_length_xlnet, model_name='xlnet')\n",
        "encoded_test_data_xlnet = encode_text_data(xlnet_tokenizer, test_data['text'].tolist(), max_length_xlnet, model_name='xlnet')\n",
        "\n",
        "\n"
      ]
    },
    {
      "cell_type": "markdown",
      "metadata": {
        "id": "iFY6U7FAy3EC"
      },
      "source": [
        "MODEL PREPARATION"
      ]
    },
    {
      "cell_type": "markdown",
      "metadata": {
        "id": "TuYA_-Izy-2Y"
      },
      "source": [
        "Select the pre-trained ELECTRA and XLNet models (e.g., ElectraForSequenceClassification and XLNetForSequenceClassification from the Hugging Face Transformers library).\n",
        "    Configure the models: Set the number of labels to 2 (fake and real news) and specify any other hyperparameters.\n",
        "    Define the training parameters: Choose the optimizer (e.g., AdamW), learning rate, batch size, and number of epochs."
      ]
    },
    {
      "cell_type": "code",
      "execution_count": null,
      "metadata": {
        "colab": {
          "base_uri": "https://localhost:8080/",
          "height": 321,
          "referenced_widgets": [
            "abc554a5c6b14e25a841f8837d78b7f5",
            "23793e7ef10f4702bd6d4fdcf38bb9aa",
            "1c72a606cbbc4d1382a5454f729319a2",
            "cdcf3e36af3c4a5ab7e3d6548164ea36",
            "e233ab02834f413ab65ea7924afab989",
            "52e96caf0a6c4ab9bd3d5f5b9b8003be",
            "aa43141e99c84b4a96e3d0dd80b611cd",
            "ee780fe6637e44e6b1063962b9aafe0e",
            "ba69001e0ca448a29d5cadee5774c761",
            "ac355baba00b49ca9409a13b4db0caaa",
            "302ef002b42c4f01aa67353500fa0a52",
            "bcb89bee971949eb8e773d71b9c3ad63",
            "14ddfd0329fc43699083589f2c2ea2a1",
            "f76b3f27aeb74b74996a350aaa6730fb",
            "a4f0a532bc814e07b8ff8d93539a6e77",
            "aed6a7e8ea7345528fc2d58d20989725",
            "47255f8a2e8246c4b519878a8a1855df",
            "0090eed9de53456b8cb80504dde4316a",
            "d094386293124325bed1371578040fd6",
            "bc70b7127de44b89a23c05a7ecdb856a",
            "f492fca1ed194b39bcb4faba4d8780d8",
            "46afdc6e88bc47a89662e2ae976c0a8a",
            "a4971ba494b342d5848578ed509aa487",
            "1391c9dc59924de18172ae57ec9a539c"
          ]
        },
        "execution": {
          "iopub.execute_input": "2023-05-04T16:25:33.584534Z",
          "iopub.status.busy": "2023-05-04T16:25:33.584299Z",
          "iopub.status.idle": "2023-05-04T16:25:50.039915Z",
          "shell.execute_reply": "2023-05-04T16:25:50.039402Z",
          "shell.execute_reply.started": "2023-05-04T16:25:33.584517Z"
        },
        "id": "V4aZTZV5d14X",
        "outputId": "8f698eca-4e6d-4d4e-c5ea-db63081f56fb"
      },
      "outputs": [
        {
          "data": {
            "application/vnd.jupyter.widget-view+json": {
              "model_id": "a4971ba494b342d5848578ed509aa487",
              "version_major": 2,
              "version_minor": 0
            },
            "text/plain": [
              "Downloading pytorch_model.bin:   0%|          | 0.00/420M [00:00<?, ?B/s]"
            ]
          },
          "metadata": {},
          "output_type": "display_data"
        },
        {
          "name": "stderr",
          "output_type": "stream",
          "text": [
            "Some weights of the model checkpoint at google/electra-base-discriminator were not used when initializing ElectraForSequenceClassification: ['discriminator_predictions.dense.weight', 'discriminator_predictions.dense_prediction.weight', 'discriminator_predictions.dense_prediction.bias', 'discriminator_predictions.dense.bias']\n",
            "- This IS expected if you are initializing ElectraForSequenceClassification from the checkpoint of a model trained on another task or with another architecture (e.g. initializing a BertForSequenceClassification model from a BertForPreTraining model).\n",
            "- This IS NOT expected if you are initializing ElectraForSequenceClassification from the checkpoint of a model that you expect to be exactly identical (initializing a BertForSequenceClassification model from a BertForSequenceClassification model).\n",
            "Some weights of ElectraForSequenceClassification were not initialized from the model checkpoint at google/electra-base-discriminator and are newly initialized: ['classifier.out_proj.bias', 'classifier.out_proj.weight', 'classifier.dense.bias', 'classifier.dense.weight']\n",
            "You should probably TRAIN this model on a down-stream task to be able to use it for predictions and inference.\n"
          ]
        },
        {
          "data": {
            "application/vnd.jupyter.widget-view+json": {
              "model_id": "1391c9dc59924de18172ae57ec9a539c",
              "version_major": 2,
              "version_minor": 0
            },
            "text/plain": [
              "Downloading pytorch_model.bin:   0%|          | 0.00/445M [00:00<?, ?B/s]"
            ]
          },
          "metadata": {},
          "output_type": "display_data"
        },
        {
          "name": "stderr",
          "output_type": "stream",
          "text": [
            "Some weights of the model checkpoint at xlnet-base-cased were not used when initializing XLNetForSequenceClassification: ['lm_loss.weight', 'lm_loss.bias']\n",
            "- This IS expected if you are initializing XLNetForSequenceClassification from the checkpoint of a model trained on another task or with another architecture (e.g. initializing a BertForSequenceClassification model from a BertForPreTraining model).\n",
            "- This IS NOT expected if you are initializing XLNetForSequenceClassification from the checkpoint of a model that you expect to be exactly identical (initializing a BertForSequenceClassification model from a BertForSequenceClassification model).\n",
            "Some weights of XLNetForSequenceClassification were not initialized from the model checkpoint at xlnet-base-cased and are newly initialized: ['logits_proj.weight', 'sequence_summary.summary.weight', 'logits_proj.bias', 'sequence_summary.summary.bias']\n",
            "You should probably TRAIN this model on a down-stream task to be able to use it for predictions and inference.\n",
            "/usr/local/lib/python3.9/dist-packages/transformers/optimization.py:306: FutureWarning: This implementation of AdamW is deprecated and will be removed in a future version. Use the PyTorch implementation torch.optim.AdamW instead, or set `no_deprecation_warning=True` to disable this warning\n",
            "  warnings.warn(\n"
          ]
        }
      ],
      "source": [
        "from transformers import ElectraForSequenceClassification, XLNetForSequenceClassification, AdamW\n",
        "\n",
        "# Load the pretrained ELECTRA model for sequence classification\n",
        "electra_model = ElectraForSequenceClassification.from_pretrained(\n",
        "    'google/electra-base-discriminator',\n",
        "    num_labels=2,\n",
        "    output_attentions=False,\n",
        "    output_hidden_states=False\n",
        ")\n",
        "\n",
        "# Load the pretrained XLNet model for sequence classification\n",
        "xlnet_model = XLNetForSequenceClassification.from_pretrained(\n",
        "    'xlnet-base-cased',\n",
        "    num_labels=2,\n",
        "    output_attentions=False,\n",
        "    output_hidden_states=False\n",
        ")\n",
        "\n",
        "# Define the training parameters\n",
        "optimizer_electra = AdamW(electra_model.parameters(), lr=2e-5, eps=1e-8)\n",
        "optimizer_xlnet = AdamW(xlnet_model.parameters(), lr=2e-5, eps=1e-8)\n",
        "\n",
        "learning_rate = 2e-5\n",
        "batch_size = 16\n",
        "num_epochs = 3\n"
      ]
    },
    {
      "cell_type": "markdown",
      "metadata": {
        "id": "YJUnZF_0zSCd"
      },
      "source": [
        "This code snippet imports the necessary classes from the Hugging Face Transformers library, loads the pretrained ELECTRA and XLNet models for sequence classification, and sets the number of labels to 2 for fake and real news classification. The models are configured not to output attentions or hidden states.\n",
        "\n",
        "The training parameters are defined using the AdamW optimizer with a specified learning rate and epsilon value. You can adjust the learning rate, batch size, and number of epochs according to your requirements and hardware constraints."
      ]
    },
    {
      "cell_type": "markdown",
      "metadata": {
        "id": "9vJcAjZ3Bw9e"
      },
      "source": [
        "Model Training"
      ]
    },
    {
      "cell_type": "markdown",
      "metadata": {
        "id": "U8Smg3epznqm"
      },
      "source": [
        "Model Training:\n",
        "\n",
        "    Train the ELECTRA and XLNet models separately on the training dataset.\n",
        "    Validate the models during training using the validation dataset to monitor their performance and avoid overfitting."
      ]
    },
    {
      "cell_type": "code",
      "execution_count": null,
      "metadata": {
        "execution": {
          "iopub.execute_input": "2023-05-04T16:25:50.041575Z",
          "iopub.status.busy": "2023-05-04T16:25:50.040642Z",
          "iopub.status.idle": "2023-05-04T18:02:57.248949Z",
          "shell.execute_reply": "2023-05-04T18:02:57.248047Z",
          "shell.execute_reply.started": "2023-05-04T16:25:50.041549Z"
        },
        "id": "4VjAh8_5zqGE",
        "outputId": "b24a86dd-083e-4fc5-ae9d-fedbc6286fa8"
      },
      "outputs": [
        {
          "name": "stdout",
          "output_type": "stream",
          "text": [
            "Epoch: 1, Train Loss: 0.019703529338646792, Validation Loss: 0.004950502579110994\n",
            "Epoch: 2, Train Loss: 0.0026918698187586502, Validation Loss: 0.0064993213591507315\n",
            "Epoch: 3, Train Loss: 0.0016503566949672241, Validation Loss: 0.0016429046165570224\n",
            "Epoch: 1, Train Loss: 0.023935745771841804, Validation Loss: 0.015502227676232359\n",
            "Epoch: 2, Train Loss: 0.003405549313485693, Validation Loss: 0.004790249627001757\n",
            "Epoch: 3, Train Loss: 0.0011191337376334242, Validation Loss: 0.0010165631525775726\n"
          ]
        }
      ],
      "source": [
        "import torch\n",
        "from torch.utils.data import DataLoader, RandomSampler, SequentialSampler, TensorDataset\n",
        "from transformers import get_linear_schedule_with_warmup\n",
        "\n",
        "# Function to create a TensorDataset from encoded data\n",
        "def create_tensor_dataset(encoded_data, labels):\n",
        "    return TensorDataset(\n",
        "        encoded_data['input_ids'],\n",
        "        encoded_data['attention_mask'],\n",
        "        torch.tensor(labels, dtype=torch.long)\n",
        "    )\n",
        "\n",
        "# Create TensorDatasets for ELECTRA and XLNet\n",
        "train_dataset_electra = create_tensor_dataset(encoded_train_data_electra, train_data['class'].tolist())\n",
        "valid_dataset_electra = create_tensor_dataset(encoded_valid_data_electra, valid_data['class'].tolist())\n",
        "\n",
        "train_dataset_xlnet = create_tensor_dataset(encoded_train_data_xlnet, train_data['class'].tolist())\n",
        "valid_dataset_xlnet = create_tensor_dataset(encoded_valid_data_xlnet, valid_data['class'].tolist())\n",
        "\n",
        "# Create DataLoaders for ELECTRA and XLNet\n",
        "train_dataloader_electra = DataLoader(train_dataset_electra, sampler=RandomSampler(train_dataset_electra), batch_size=batch_size)\n",
        "valid_dataloader_electra = DataLoader(valid_dataset_electra, sampler=SequentialSampler(valid_dataset_electra), batch_size=batch_size)\n",
        "\n",
        "train_dataloader_xlnet = DataLoader(train_dataset_xlnet, sampler=RandomSampler(train_dataset_xlnet), batch_size=batch_size)\n",
        "valid_dataloader_xlnet = DataLoader(valid_dataset_xlnet, sampler=SequentialSampler(valid_dataset_xlnet), batch_size=batch_size)\n",
        "\n",
        "# Function to train a model\n",
        "def train_model(model, optimizer, train_dataloader, valid_dataloader, num_epochs, device):\n",
        "    model.to(device)\n",
        "\n",
        "    scheduler = get_linear_schedule_with_warmup(optimizer, num_warmup_steps=0, num_training_steps=len(train_dataloader) * num_epochs)\n",
        "\n",
        "    for epoch in range(num_epochs):\n",
        "        # Training phase\n",
        "        model.train()\n",
        "        total_train_loss = 0\n",
        "\n",
        "        for step, batch in enumerate(train_dataloader):\n",
        "            input_ids, attention_mask, labels = tuple(t.to(device) for t in batch)\n",
        "            model.zero_grad()\n",
        "\n",
        "            outputs = model(input_ids, attention_mask=attention_mask, labels=labels)\n",
        "            loss = outputs[0]\n",
        "            total_train_loss += loss.item()\n",
        "            loss.backward()\n",
        "\n",
        "            torch.nn.utils.clip_grad_norm_(model.parameters(), 1.0)\n",
        "            optimizer.step()\n",
        "            scheduler.step()\n",
        "\n",
        "        avg_train_loss = total_train_loss / len(train_dataloader)\n",
        "\n",
        "        # Validation phase\n",
        "        model.eval()\n",
        "        total_eval_loss = 0\n",
        "\n",
        "        for batch in valid_dataloader:\n",
        "            input_ids, attention_mask, labels = tuple(t.to(device) for t in batch)\n",
        "            with torch.no_grad():\n",
        "                outputs = model(input_ids, attention_mask=attention_mask, labels=labels)\n",
        "            loss = outputs[0]\n",
        "            total_eval_loss += loss.item()\n",
        "\n",
        "        avg_eval_loss = total_eval_loss / len(valid_dataloader)\n",
        "\n",
        "        print(f\"Epoch: {epoch + 1}, Train Loss: {avg_train_loss}, Validation Loss: {avg_eval_loss}\")\n",
        "\n",
        "# Train the ELECTRA model\n",
        "device = torch.device('cuda' if torch.cuda.is_available() else 'cpu')\n",
        "train_model(electra_model, optimizer_electra, train_dataloader_electra, valid_dataloader_electra, num_epochs, device)\n",
        "\n",
        "# Train the XLNet model\n",
        "train_model(xlnet_model, optimizer_xlnet, train_dataloader_xlnet, valid_dataloader_xlnet, num_epochs, device)\n"
      ]
    },
    {
      "cell_type": "markdown",
      "metadata": {
        "id": "pQRK0Y0c1i0A"
      },
      "source": [
        "This code snippet creates TensorDatasets and DataLoaders for the ELECTRA and XLNET"
      ]
    },
    {
      "cell_type": "markdown",
      "metadata": {
        "id": "CALvJORxBzem"
      },
      "source": [
        "Model Evaluation"
      ]
    },
    {
      "cell_type": "code",
      "execution_count": null,
      "metadata": {
        "execution": {
          "iopub.execute_input": "2023-05-04T18:06:28.689789Z",
          "iopub.status.busy": "2023-05-04T18:06:28.689493Z",
          "iopub.status.idle": "2023-05-04T18:07:51.252266Z",
          "shell.execute_reply": "2023-05-04T18:07:51.251355Z",
          "shell.execute_reply.started": "2023-05-04T18:06:28.689766Z"
        },
        "id": "MTOTRGhwB2Qn",
        "outputId": "d3efc962-6cb4-44a5-fcef-0be17aec28a1"
      },
      "outputs": [
        {
          "name": "stdout",
          "output_type": "stream",
          "text": [
            "ELECTRA Model:\n",
            "Accuracy: 0.999554565701559, Precision: 0.9995337995337995, Recall: 0.9995337995337995, F1-score: 0.9995337995337995\n",
            "\n",
            "XLNet Model:\n",
            "Accuracy: 0.9997772828507795, Precision: 1.0, Recall: 0.9995337995337995, F1-score: 0.9997668454185124\n"
          ]
        }
      ],
      "source": [
        "from sklearn.metrics import accuracy_score, precision_score, recall_score, f1_score\n",
        "\n",
        "# Function to evaluate a model on test data\n",
        "def evaluate_model(model, test_dataloader, device):\n",
        "    model.to(device)\n",
        "    model.eval()\n",
        "\n",
        "    predictions, true_labels = [], []\n",
        "\n",
        "    for batch in test_dataloader:\n",
        "        input_ids, attention_mask, labels = tuple(t.to(device) for t in batch)\n",
        "        with torch.no_grad():\n",
        "            outputs = model(input_ids, attention_mask=attention_mask)\n",
        "        \n",
        "        logits = outputs[0].detach().cpu().numpy()\n",
        "        label_ids = labels.to('cpu').numpy()\n",
        "\n",
        "        predictions.extend(np.argmax(logits, axis=1).flatten())\n",
        "        true_labels.extend(label_ids.flatten())\n",
        "\n",
        "    return predictions, true_labels\n",
        "\n",
        "# Create a DataLoader for the test dataset\n",
        "test_dataloader_electra = DataLoader(valid_dataset_electra, sampler=SequentialSampler(valid_dataset_electra), batch_size=batch_size)\n",
        "test_dataloader_xlnet = DataLoader(valid_dataset_xlnet, sampler=SequentialSampler(valid_dataset_xlnet), batch_size=batch_size)\n",
        "\n",
        "# Evaluate the models\n",
        "predictions_electra, true_labels_electra = evaluate_model(electra_model, test_dataloader_electra, device)\n",
        "predictions_xlnet, true_labels_xlnet = evaluate_model(xlnet_model, test_dataloader_xlnet, device)\n",
        "\n",
        "# Calculate evaluation metrics\n",
        "accuracy_electra = accuracy_score(true_labels_electra, predictions_electra)\n",
        "precision_electra = precision_score(true_labels_electra, predictions_electra)\n",
        "recall_electra = recall_score(true_labels_electra, predictions_electra)\n",
        "f1_electra = f1_score(true_labels_electra, predictions_electra)\n",
        "\n",
        "accuracy_xlnet = accuracy_score(true_labels_xlnet, predictions_xlnet)\n",
        "precision_xlnet = precision_score(true_labels_xlnet, predictions_xlnet)\n",
        "recall_xlnet = recall_score(true_labels_xlnet, predictions_xlnet)\n",
        "f1_xlnet = f1_score(true_labels_xlnet, predictions_xlnet)\n",
        "\n",
        "# Print the evaluation metrics\n",
        "print(\"ELECTRA Model:\")\n",
        "print(f\"Accuracy: {accuracy_electra}, Precision: {precision_electra}, Recall: {recall_electra}, F1-score: {f1_electra}\")\n",
        "\n",
        "print(\"\\nXLNet Model:\")\n",
        "print(f\"Accuracy: {accuracy_xlnet}, Precision: {precision_xlnet}, Recall: {recall_xlnet}, F1-score: {f1_xlnet}\")\n"
      ]
    },
    {
      "cell_type": "markdown",
      "metadata": {
        "id": "2upI3w2pbfF2"
      },
      "source": [
        "Hyperparameter Tuning"
      ]
    },
    {
      "cell_type": "code",
      "execution_count": null,
      "metadata": {
        "execution": {
          "iopub.execute_input": "2023-05-04T18:08:36.856164Z",
          "iopub.status.busy": "2023-05-04T18:08:36.855276Z",
          "iopub.status.idle": "2023-05-04T18:08:40.567643Z",
          "shell.execute_reply": "2023-05-04T18:08:40.566604Z",
          "shell.execute_reply.started": "2023-05-04T18:08:36.856135Z"
        },
        "id": "ZIqwN7F_bfF2",
        "outputId": "82d52489-2028-45e9-cb6f-e03a293f3fc7"
      },
      "outputs": [
        {
          "name": "stdout",
          "output_type": "stream",
          "text": [
            "Collecting optuna\n",
            "  Downloading optuna-3.1.1-py3-none-any.whl (365 kB)\n",
            "\u001b[2K     \u001b[90m━━━━━━━━━━━━━━━━━━━━━━━━━━━━━━━━━━━━━━\u001b[0m \u001b[32m365.7/365.7 kB\u001b[0m \u001b[31m33.5 MB/s\u001b[0m eta \u001b[36m0:00:00\u001b[0m\n",
            "\u001b[?25hRequirement already satisfied: PyYAML in /usr/local/lib/python3.9/dist-packages (from optuna) (5.4.1)\n",
            "Requirement already satisfied: packaging>=20.0 in /usr/local/lib/python3.9/dist-packages (from optuna) (23.0)\n",
            "Requirement already satisfied: numpy in /usr/local/lib/python3.9/dist-packages (from optuna) (1.23.4)\n",
            "Requirement already satisfied: tqdm in /usr/local/lib/python3.9/dist-packages (from optuna) (4.64.1)\n",
            "Collecting cmaes>=0.9.1\n",
            "  Downloading cmaes-0.9.1-py3-none-any.whl (21 kB)\n",
            "Collecting alembic>=1.5.0\n",
            "  Downloading alembic-1.10.4-py3-none-any.whl (212 kB)\n",
            "\u001b[2K     \u001b[90m━━━━━━━━━━━━━━━━━━━━━━━━━━━━━━━━━━━━━━\u001b[0m \u001b[32m212.9/212.9 kB\u001b[0m \u001b[31m48.6 MB/s\u001b[0m eta \u001b[36m0:00:00\u001b[0m\n",
            "\u001b[?25hCollecting colorlog\n",
            "  Downloading colorlog-6.7.0-py2.py3-none-any.whl (11 kB)\n",
            "Requirement already satisfied: sqlalchemy>=1.3.0 in /usr/local/lib/python3.9/dist-packages (from optuna) (1.4.41)\n",
            "Requirement already satisfied: typing-extensions>=4 in /usr/local/lib/python3.9/dist-packages (from alembic>=1.5.0->optuna) (4.4.0)\n",
            "Collecting Mako\n",
            "  Downloading Mako-1.2.4-py3-none-any.whl (78 kB)\n",
            "\u001b[2K     \u001b[90m━━━━━━━━━━━━━━━━━━━━━━━━━━━━━━━━━━━━━━━━\u001b[0m \u001b[32m78.7/78.7 kB\u001b[0m \u001b[31m24.9 MB/s\u001b[0m eta \u001b[36m0:00:00\u001b[0m\n",
            "\u001b[?25hRequirement already satisfied: greenlet!=0.4.17 in /usr/local/lib/python3.9/dist-packages (from sqlalchemy>=1.3.0->optuna) (2.0.1)\n",
            "Requirement already satisfied: MarkupSafe>=0.9.2 in /usr/local/lib/python3.9/dist-packages (from Mako->alembic>=1.5.0->optuna) (2.1.2)\n",
            "Installing collected packages: Mako, colorlog, cmaes, alembic, optuna\n",
            "Successfully installed Mako-1.2.4 alembic-1.10.4 cmaes-0.9.1 colorlog-6.7.0 optuna-3.1.1\n",
            "\u001b[33mWARNING: Running pip as the 'root' user can result in broken permissions and conflicting behaviour with the system package manager. It is recommended to use a virtual environment instead: https://pip.pypa.io/warnings/venv\u001b[0m\u001b[33m\n",
            "\u001b[0mNote: you may need to restart the kernel to use updated packages.\n"
          ]
        }
      ],
      "source": [
        "pip install optuna"
      ]
    },
    {
      "cell_type": "code",
      "execution_count": null,
      "metadata": {
        "id": "z5YfFlk0bfF2"
      },
      "outputs": [],
      "source": [
        "import optuna\n",
        "from optuna.integration import PyTorchLightningPruningCallback\n",
        "from functools import partial\n",
        "\n",
        "# Define the objective function for hyperparameter tuning\n",
        "def objective(trial, model, train_dataloader, valid_dataloader, device):\n",
        "    # Define hyperparameters to be tuned\n",
        "    lr = trial.suggest_float(\"learning_rate\", 1e-5, 1e-3, log=True)\n",
        "    num_epochs = trial.suggest_int(\"num_epochs\", 1, 5)\n",
        "\n",
        "    # Configure the optimizer with the suggested learning rate\n",
        "    optimizer = AdamW(model.parameters(), lr=lr, eps=1e-8)\n",
        "\n",
        "    # Train the model with the current hyperparameters\n",
        "    train_model(model, optimizer, train_dataloader, valid_dataloader, num_epochs, device, trial)\n",
        "\n",
        "    # Evaluate the model on the validation set\n",
        "    model.eval()\n",
        "    total_eval_loss = 0\n",
        "    for batch in valid_dataloader:\n",
        "        input_ids, attention_mask, labels = tuple(t.to(device) for t in batch)\n",
        "        with torch.no_grad():\n",
        "            outputs = model(input_ids, attention_mask=attention_mask, labels=labels)\n",
        "        loss = outputs[0]\n",
        "        total_eval_loss += loss.item()\n",
        "\n",
        "    avg_eval_loss = total_eval_loss / len(valid_dataloader)\n",
        "\n",
        "    return avg_eval_loss\n",
        "\n",
        "def train_model(model, optimizer, train_dataloader, valid_dataloader, num_epochs, device, trial=None):\n",
        "    model.to(device)\n",
        "\n",
        "    scheduler = get_linear_schedule_with_warmup(optimizer, num_warmup_steps=0, num_training_steps=len(train_dataloader) * num_epochs)\n",
        "\n",
        "    for epoch in range(num_epochs):\n",
        "        # Training phase\n",
        "        model.train()\n",
        "        total_train_loss = 0\n",
        "\n",
        "        for step, batch in enumerate(train_dataloader):\n",
        "            input_ids, attention_mask, labels = tuple(t.to(device) for t in batch)\n",
        "            model.zero_grad()\n",
        "\n",
        "            outputs = model(input_ids, attention_mask=attention_mask, labels=labels)\n",
        "            loss = outputs[0]\n",
        "            total_train_loss += loss.item()\n",
        "            loss.backward()\n",
        "\n",
        "            torch.nn.utils.clip_grad_norm_(model.parameters(), 1.0)\n",
        "            optimizer.step()\n",
        "            scheduler.step()\n",
        "\n",
        "        avg_train_loss = total_train_loss / len(train_dataloader)\n",
        "\n",
        "        # Validation phase\n",
        "        model.eval()\n",
        "        total_eval_loss = 0\n",
        "\n",
        "        for batch_idx, batch in enumerate(valid_dataloader):\n",
        "            input_ids, attention_mask, labels = tuple(t.to(device) for t in batch)\n",
        "            with torch.no_grad():\n",
        "                outputs = model(input_ids, attention_mask=attention_mask, labels=labels)\n",
        "            loss = outputs[0]\n",
        "            total_eval_loss += loss.item()\n",
        "\n",
        "            # Report intermediate objective value\n",
        "            if trial is not None:\n",
        "                trial.report(total_eval_loss / (batch_idx + 1), epoch)\n",
        "\n",
        "            # Handle pruning based on the intermediate value\n",
        "            if trial is not None and trial.should_prune():\n",
        "                raise optuna.exceptions.TrialPruned()\n",
        "\n",
        "        avg_eval_loss = total_eval_loss / len(valid_dataloader)\n",
        "\n",
        "        if trial is None:\n",
        "            print(f\"Epoch: {epoch + 1}, Train Loss: {avg_train_loss}, Validation Loss: {avg_eval_loss}\")\n",
        "\n",
        "\n",
        "# Optuna study for hyperparameter tuning\n",
        "study = optuna.create_study(direction=\"minimize\")\n",
        "objective_with_data = partial(objective, model=electra_model, train_dataloader=train_dataloader_electra, valid_dataloader=valid_dataloader_electra, device=device)\n",
        "study.optimize(objective_with_data, n_trials=10)\n",
        "\n",
        "# Print the best hyperparameters\n",
        "print(\"Best hyperparameters: \", study.best_params)\n"
      ]
    },
    {
      "cell_type": "markdown",
      "metadata": {
        "id": "H3zTEcZJB2b-"
      },
      "source": []
    }
  ],
  "metadata": {
    "accelerator": "GPU",
    "colab": {
      "provenance": []
    },
    "gpuClass": "standard",
    "kernelspec": {
      "display_name": "Python 3 (ipykernel)",
      "language": "python",
      "name": "python3"
    },
    "language_info": {
      "codemirror_mode": {
        "name": "ipython",
        "version": 3
      },
      "file_extension": ".py",
      "mimetype": "text/x-python",
      "name": "python",
      "nbconvert_exporter": "python",
      "pygments_lexer": "ipython3",
      "version": "3.9.16"
    },
    "widgets": {
      "application/vnd.jupyter.widget-state+json": {
        "0090eed9de53456b8cb80504dde4316a": {
          "model_module": "@jupyter-widgets/controls",
          "model_module_version": "1.5.0",
          "model_name": "DescriptionStyleModel",
          "state": {
            "_model_module": "@jupyter-widgets/controls",
            "_model_module_version": "1.5.0",
            "_model_name": "DescriptionStyleModel",
            "_view_count": null,
            "_view_module": "@jupyter-widgets/base",
            "_view_module_version": "1.2.0",
            "_view_name": "StyleView",
            "description_width": ""
          }
        },
        "14ddfd0329fc43699083589f2c2ea2a1": {
          "model_module": "@jupyter-widgets/controls",
          "model_module_version": "1.5.0",
          "model_name": "HTMLModel",
          "state": {
            "_dom_classes": [],
            "_model_module": "@jupyter-widgets/controls",
            "_model_module_version": "1.5.0",
            "_model_name": "HTMLModel",
            "_view_count": null,
            "_view_module": "@jupyter-widgets/controls",
            "_view_module_version": "1.5.0",
            "_view_name": "HTMLView",
            "description": "",
            "description_tooltip": null,
            "layout": "IPY_MODEL_47255f8a2e8246c4b519878a8a1855df",
            "placeholder": "​",
            "style": "IPY_MODEL_0090eed9de53456b8cb80504dde4316a",
            "value": "Downloading pytorch_model.bin: 100%"
          }
        },
        "1c72a606cbbc4d1382a5454f729319a2": {
          "model_module": "@jupyter-widgets/controls",
          "model_module_version": "1.5.0",
          "model_name": "FloatProgressModel",
          "state": {
            "_dom_classes": [],
            "_model_module": "@jupyter-widgets/controls",
            "_model_module_version": "1.5.0",
            "_model_name": "FloatProgressModel",
            "_view_count": null,
            "_view_module": "@jupyter-widgets/controls",
            "_view_module_version": "1.5.0",
            "_view_name": "ProgressView",
            "bar_style": "success",
            "description": "",
            "description_tooltip": null,
            "layout": "IPY_MODEL_ee780fe6637e44e6b1063962b9aafe0e",
            "max": 440343552,
            "min": 0,
            "orientation": "horizontal",
            "style": "IPY_MODEL_ba69001e0ca448a29d5cadee5774c761",
            "value": 440343552
          }
        },
        "23793e7ef10f4702bd6d4fdcf38bb9aa": {
          "model_module": "@jupyter-widgets/controls",
          "model_module_version": "1.5.0",
          "model_name": "HTMLModel",
          "state": {
            "_dom_classes": [],
            "_model_module": "@jupyter-widgets/controls",
            "_model_module_version": "1.5.0",
            "_model_name": "HTMLModel",
            "_view_count": null,
            "_view_module": "@jupyter-widgets/controls",
            "_view_module_version": "1.5.0",
            "_view_name": "HTMLView",
            "description": "",
            "description_tooltip": null,
            "layout": "IPY_MODEL_52e96caf0a6c4ab9bd3d5f5b9b8003be",
            "placeholder": "​",
            "style": "IPY_MODEL_aa43141e99c84b4a96e3d0dd80b611cd",
            "value": "Downloading pytorch_model.bin: 100%"
          }
        },
        "241f4ca5d4dc494d849c54be79cae244": {
          "model_module": "@jupyter-widgets/base",
          "model_module_version": "1.2.0",
          "model_name": "LayoutModel",
          "state": {
            "_model_module": "@jupyter-widgets/base",
            "_model_module_version": "1.2.0",
            "_model_name": "LayoutModel",
            "_view_count": null,
            "_view_module": "@jupyter-widgets/base",
            "_view_module_version": "1.2.0",
            "_view_name": "LayoutView",
            "align_content": null,
            "align_items": null,
            "align_self": null,
            "border": null,
            "bottom": null,
            "display": null,
            "flex": null,
            "flex_flow": null,
            "grid_area": null,
            "grid_auto_columns": null,
            "grid_auto_flow": null,
            "grid_auto_rows": null,
            "grid_column": null,
            "grid_gap": null,
            "grid_row": null,
            "grid_template_areas": null,
            "grid_template_columns": null,
            "grid_template_rows": null,
            "height": null,
            "justify_content": null,
            "justify_items": null,
            "left": null,
            "margin": null,
            "max_height": null,
            "max_width": null,
            "min_height": null,
            "min_width": null,
            "object_fit": null,
            "object_position": null,
            "order": null,
            "overflow": null,
            "overflow_x": null,
            "overflow_y": null,
            "padding": null,
            "right": null,
            "top": null,
            "visibility": null,
            "width": null
          }
        },
        "27452dc4da7e4bbdb8e4be1104f42fb8": {
          "model_module": "@jupyter-widgets/controls",
          "model_module_version": "1.5.0",
          "model_name": "FloatProgressModel",
          "state": {
            "_dom_classes": [],
            "_model_module": "@jupyter-widgets/controls",
            "_model_module_version": "1.5.0",
            "_model_name": "FloatProgressModel",
            "_view_count": null,
            "_view_module": "@jupyter-widgets/controls",
            "_view_module_version": "1.5.0",
            "_view_name": "ProgressView",
            "bar_style": "success",
            "description": "",
            "description_tooltip": null,
            "layout": "IPY_MODEL_b51cf24fef0245bc9637da5c90013163",
            "max": 760,
            "min": 0,
            "orientation": "horizontal",
            "style": "IPY_MODEL_54fc6dd144634245990e4b2e5b2be838",
            "value": 760
          }
        },
        "2e4e8b90d56c43879572f09c19c4ab46": {
          "model_module": "@jupyter-widgets/controls",
          "model_module_version": "1.5.0",
          "model_name": "HTMLModel",
          "state": {
            "_dom_classes": [],
            "_model_module": "@jupyter-widgets/controls",
            "_model_module_version": "1.5.0",
            "_model_name": "HTMLModel",
            "_view_count": null,
            "_view_module": "@jupyter-widgets/controls",
            "_view_module_version": "1.5.0",
            "_view_name": "HTMLView",
            "description": "",
            "description_tooltip": null,
            "layout": "IPY_MODEL_368ef626bdb143a8896d175482db8dee",
            "placeholder": "​",
            "style": "IPY_MODEL_847186672c8b4f1faf835fa2a61fddbd",
            "value": " 798k/798k [00:00&lt;00:00, 3.31MB/s]"
          }
        },
        "302ef002b42c4f01aa67353500fa0a52": {
          "model_module": "@jupyter-widgets/controls",
          "model_module_version": "1.5.0",
          "model_name": "DescriptionStyleModel",
          "state": {
            "_model_module": "@jupyter-widgets/controls",
            "_model_module_version": "1.5.0",
            "_model_name": "DescriptionStyleModel",
            "_view_count": null,
            "_view_module": "@jupyter-widgets/base",
            "_view_module_version": "1.2.0",
            "_view_name": "StyleView",
            "description_width": ""
          }
        },
        "345cfb9f3ad843f6a53a80fa18912949": {
          "model_module": "@jupyter-widgets/controls",
          "model_module_version": "1.5.0",
          "model_name": "DescriptionStyleModel",
          "state": {
            "_model_module": "@jupyter-widgets/controls",
            "_model_module_version": "1.5.0",
            "_model_name": "DescriptionStyleModel",
            "_view_count": null,
            "_view_module": "@jupyter-widgets/base",
            "_view_module_version": "1.2.0",
            "_view_name": "StyleView",
            "description_width": ""
          }
        },
        "368ef626bdb143a8896d175482db8dee": {
          "model_module": "@jupyter-widgets/base",
          "model_module_version": "1.2.0",
          "model_name": "LayoutModel",
          "state": {
            "_model_module": "@jupyter-widgets/base",
            "_model_module_version": "1.2.0",
            "_model_name": "LayoutModel",
            "_view_count": null,
            "_view_module": "@jupyter-widgets/base",
            "_view_module_version": "1.2.0",
            "_view_name": "LayoutView",
            "align_content": null,
            "align_items": null,
            "align_self": null,
            "border": null,
            "bottom": null,
            "display": null,
            "flex": null,
            "flex_flow": null,
            "grid_area": null,
            "grid_auto_columns": null,
            "grid_auto_flow": null,
            "grid_auto_rows": null,
            "grid_column": null,
            "grid_gap": null,
            "grid_row": null,
            "grid_template_areas": null,
            "grid_template_columns": null,
            "grid_template_rows": null,
            "height": null,
            "justify_content": null,
            "justify_items": null,
            "left": null,
            "margin": null,
            "max_height": null,
            "max_width": null,
            "min_height": null,
            "min_width": null,
            "object_fit": null,
            "object_position": null,
            "order": null,
            "overflow": null,
            "overflow_x": null,
            "overflow_y": null,
            "padding": null,
            "right": null,
            "top": null,
            "visibility": null,
            "width": null
          }
        },
        "3e59909ab33043e6b96755f96c57ba96": {
          "model_module": "@jupyter-widgets/controls",
          "model_module_version": "1.5.0",
          "model_name": "HTMLModel",
          "state": {
            "_dom_classes": [],
            "_model_module": "@jupyter-widgets/controls",
            "_model_module_version": "1.5.0",
            "_model_name": "HTMLModel",
            "_view_count": null,
            "_view_module": "@jupyter-widgets/controls",
            "_view_module_version": "1.5.0",
            "_view_name": "HTMLView",
            "description": "",
            "description_tooltip": null,
            "layout": "IPY_MODEL_9ab4073556b74e57818338cbe7818a2b",
            "placeholder": "​",
            "style": "IPY_MODEL_b101815389a54d4d96ef121f7e738bfe",
            "value": "Downloading (…)ve/main/spiece.model: 100%"
          }
        },
        "46afdc6e88bc47a89662e2ae976c0a8a": {
          "model_module": "@jupyter-widgets/controls",
          "model_module_version": "1.5.0",
          "model_name": "DescriptionStyleModel",
          "state": {
            "_model_module": "@jupyter-widgets/controls",
            "_model_module_version": "1.5.0",
            "_model_name": "DescriptionStyleModel",
            "_view_count": null,
            "_view_module": "@jupyter-widgets/base",
            "_view_module_version": "1.2.0",
            "_view_name": "StyleView",
            "description_width": ""
          }
        },
        "47255f8a2e8246c4b519878a8a1855df": {
          "model_module": "@jupyter-widgets/base",
          "model_module_version": "1.2.0",
          "model_name": "LayoutModel",
          "state": {
            "_model_module": "@jupyter-widgets/base",
            "_model_module_version": "1.2.0",
            "_model_name": "LayoutModel",
            "_view_count": null,
            "_view_module": "@jupyter-widgets/base",
            "_view_module_version": "1.2.0",
            "_view_name": "LayoutView",
            "align_content": null,
            "align_items": null,
            "align_self": null,
            "border": null,
            "bottom": null,
            "display": null,
            "flex": null,
            "flex_flow": null,
            "grid_area": null,
            "grid_auto_columns": null,
            "grid_auto_flow": null,
            "grid_auto_rows": null,
            "grid_column": null,
            "grid_gap": null,
            "grid_row": null,
            "grid_template_areas": null,
            "grid_template_columns": null,
            "grid_template_rows": null,
            "height": null,
            "justify_content": null,
            "justify_items": null,
            "left": null,
            "margin": null,
            "max_height": null,
            "max_width": null,
            "min_height": null,
            "min_width": null,
            "object_fit": null,
            "object_position": null,
            "order": null,
            "overflow": null,
            "overflow_x": null,
            "overflow_y": null,
            "padding": null,
            "right": null,
            "top": null,
            "visibility": null,
            "width": null
          }
        },
        "52e96caf0a6c4ab9bd3d5f5b9b8003be": {
          "model_module": "@jupyter-widgets/base",
          "model_module_version": "1.2.0",
          "model_name": "LayoutModel",
          "state": {
            "_model_module": "@jupyter-widgets/base",
            "_model_module_version": "1.2.0",
            "_model_name": "LayoutModel",
            "_view_count": null,
            "_view_module": "@jupyter-widgets/base",
            "_view_module_version": "1.2.0",
            "_view_name": "LayoutView",
            "align_content": null,
            "align_items": null,
            "align_self": null,
            "border": null,
            "bottom": null,
            "display": null,
            "flex": null,
            "flex_flow": null,
            "grid_area": null,
            "grid_auto_columns": null,
            "grid_auto_flow": null,
            "grid_auto_rows": null,
            "grid_column": null,
            "grid_gap": null,
            "grid_row": null,
            "grid_template_areas": null,
            "grid_template_columns": null,
            "grid_template_rows": null,
            "height": null,
            "justify_content": null,
            "justify_items": null,
            "left": null,
            "margin": null,
            "max_height": null,
            "max_width": null,
            "min_height": null,
            "min_width": null,
            "object_fit": null,
            "object_position": null,
            "order": null,
            "overflow": null,
            "overflow_x": null,
            "overflow_y": null,
            "padding": null,
            "right": null,
            "top": null,
            "visibility": null,
            "width": null
          }
        },
        "54fc6dd144634245990e4b2e5b2be838": {
          "model_module": "@jupyter-widgets/controls",
          "model_module_version": "1.5.0",
          "model_name": "ProgressStyleModel",
          "state": {
            "_model_module": "@jupyter-widgets/controls",
            "_model_module_version": "1.5.0",
            "_model_name": "ProgressStyleModel",
            "_view_count": null,
            "_view_module": "@jupyter-widgets/base",
            "_view_module_version": "1.2.0",
            "_view_name": "StyleView",
            "bar_color": null,
            "description_width": ""
          }
        },
        "5e1c87830fef4258a457412c71ae2550": {
          "model_module": "@jupyter-widgets/base",
          "model_module_version": "1.2.0",
          "model_name": "LayoutModel",
          "state": {
            "_model_module": "@jupyter-widgets/base",
            "_model_module_version": "1.2.0",
            "_model_name": "LayoutModel",
            "_view_count": null,
            "_view_module": "@jupyter-widgets/base",
            "_view_module_version": "1.2.0",
            "_view_name": "LayoutView",
            "align_content": null,
            "align_items": null,
            "align_self": null,
            "border": null,
            "bottom": null,
            "display": null,
            "flex": null,
            "flex_flow": null,
            "grid_area": null,
            "grid_auto_columns": null,
            "grid_auto_flow": null,
            "grid_auto_rows": null,
            "grid_column": null,
            "grid_gap": null,
            "grid_row": null,
            "grid_template_areas": null,
            "grid_template_columns": null,
            "grid_template_rows": null,
            "height": null,
            "justify_content": null,
            "justify_items": null,
            "left": null,
            "margin": null,
            "max_height": null,
            "max_width": null,
            "min_height": null,
            "min_width": null,
            "object_fit": null,
            "object_position": null,
            "order": null,
            "overflow": null,
            "overflow_x": null,
            "overflow_y": null,
            "padding": null,
            "right": null,
            "top": null,
            "visibility": null,
            "width": null
          }
        },
        "6921808a0f364b57897cb8001014b813": {
          "model_module": "@jupyter-widgets/base",
          "model_module_version": "1.2.0",
          "model_name": "LayoutModel",
          "state": {
            "_model_module": "@jupyter-widgets/base",
            "_model_module_version": "1.2.0",
            "_model_name": "LayoutModel",
            "_view_count": null,
            "_view_module": "@jupyter-widgets/base",
            "_view_module_version": "1.2.0",
            "_view_name": "LayoutView",
            "align_content": null,
            "align_items": null,
            "align_self": null,
            "border": null,
            "bottom": null,
            "display": null,
            "flex": null,
            "flex_flow": null,
            "grid_area": null,
            "grid_auto_columns": null,
            "grid_auto_flow": null,
            "grid_auto_rows": null,
            "grid_column": null,
            "grid_gap": null,
            "grid_row": null,
            "grid_template_areas": null,
            "grid_template_columns": null,
            "grid_template_rows": null,
            "height": null,
            "justify_content": null,
            "justify_items": null,
            "left": null,
            "margin": null,
            "max_height": null,
            "max_width": null,
            "min_height": null,
            "min_width": null,
            "object_fit": null,
            "object_position": null,
            "order": null,
            "overflow": null,
            "overflow_x": null,
            "overflow_y": null,
            "padding": null,
            "right": null,
            "top": null,
            "visibility": null,
            "width": null
          }
        },
        "69652f3ffc0740479b908eef70960615": {
          "model_module": "@jupyter-widgets/controls",
          "model_module_version": "1.5.0",
          "model_name": "HTMLModel",
          "state": {
            "_dom_classes": [],
            "_model_module": "@jupyter-widgets/controls",
            "_model_module_version": "1.5.0",
            "_model_name": "HTMLModel",
            "_view_count": null,
            "_view_module": "@jupyter-widgets/controls",
            "_view_module_version": "1.5.0",
            "_view_name": "HTMLView",
            "description": "",
            "description_tooltip": null,
            "layout": "IPY_MODEL_bc327f23edf747c0aeb4f6dfe969f444",
            "placeholder": "​",
            "style": "IPY_MODEL_df58834aea5a4dfe8fafa19db80a9696",
            "value": "Downloading (…)lve/main/config.json: 100%"
          }
        },
        "6c59de5909fa41a1900d282000f3310b": {
          "model_module": "@jupyter-widgets/base",
          "model_module_version": "1.2.0",
          "model_name": "LayoutModel",
          "state": {
            "_model_module": "@jupyter-widgets/base",
            "_model_module_version": "1.2.0",
            "_model_name": "LayoutModel",
            "_view_count": null,
            "_view_module": "@jupyter-widgets/base",
            "_view_module_version": "1.2.0",
            "_view_name": "LayoutView",
            "align_content": null,
            "align_items": null,
            "align_self": null,
            "border": null,
            "bottom": null,
            "display": null,
            "flex": null,
            "flex_flow": null,
            "grid_area": null,
            "grid_auto_columns": null,
            "grid_auto_flow": null,
            "grid_auto_rows": null,
            "grid_column": null,
            "grid_gap": null,
            "grid_row": null,
            "grid_template_areas": null,
            "grid_template_columns": null,
            "grid_template_rows": null,
            "height": null,
            "justify_content": null,
            "justify_items": null,
            "left": null,
            "margin": null,
            "max_height": null,
            "max_width": null,
            "min_height": null,
            "min_width": null,
            "object_fit": null,
            "object_position": null,
            "order": null,
            "overflow": null,
            "overflow_x": null,
            "overflow_y": null,
            "padding": null,
            "right": null,
            "top": null,
            "visibility": null,
            "width": null
          }
        },
        "847186672c8b4f1faf835fa2a61fddbd": {
          "model_module": "@jupyter-widgets/controls",
          "model_module_version": "1.5.0",
          "model_name": "DescriptionStyleModel",
          "state": {
            "_model_module": "@jupyter-widgets/controls",
            "_model_module_version": "1.5.0",
            "_model_name": "DescriptionStyleModel",
            "_view_count": null,
            "_view_module": "@jupyter-widgets/base",
            "_view_module_version": "1.2.0",
            "_view_name": "StyleView",
            "description_width": ""
          }
        },
        "9ab4073556b74e57818338cbe7818a2b": {
          "model_module": "@jupyter-widgets/base",
          "model_module_version": "1.2.0",
          "model_name": "LayoutModel",
          "state": {
            "_model_module": "@jupyter-widgets/base",
            "_model_module_version": "1.2.0",
            "_model_name": "LayoutModel",
            "_view_count": null,
            "_view_module": "@jupyter-widgets/base",
            "_view_module_version": "1.2.0",
            "_view_name": "LayoutView",
            "align_content": null,
            "align_items": null,
            "align_self": null,
            "border": null,
            "bottom": null,
            "display": null,
            "flex": null,
            "flex_flow": null,
            "grid_area": null,
            "grid_auto_columns": null,
            "grid_auto_flow": null,
            "grid_auto_rows": null,
            "grid_column": null,
            "grid_gap": null,
            "grid_row": null,
            "grid_template_areas": null,
            "grid_template_columns": null,
            "grid_template_rows": null,
            "height": null,
            "justify_content": null,
            "justify_items": null,
            "left": null,
            "margin": null,
            "max_height": null,
            "max_width": null,
            "min_height": null,
            "min_width": null,
            "object_fit": null,
            "object_position": null,
            "order": null,
            "overflow": null,
            "overflow_x": null,
            "overflow_y": null,
            "padding": null,
            "right": null,
            "top": null,
            "visibility": null,
            "width": null
          }
        },
        "a31a674182174439ae86011b662b95c6": {
          "model_module": "@jupyter-widgets/controls",
          "model_module_version": "1.5.0",
          "model_name": "HBoxModel",
          "state": {
            "_dom_classes": [],
            "_model_module": "@jupyter-widgets/controls",
            "_model_module_version": "1.5.0",
            "_model_name": "HBoxModel",
            "_view_count": null,
            "_view_module": "@jupyter-widgets/controls",
            "_view_module_version": "1.5.0",
            "_view_name": "HBoxView",
            "box_style": "",
            "children": [
              "IPY_MODEL_69652f3ffc0740479b908eef70960615",
              "IPY_MODEL_27452dc4da7e4bbdb8e4be1104f42fb8",
              "IPY_MODEL_e7026284b60e41f9aad7994a3de39dbb"
            ],
            "layout": "IPY_MODEL_6921808a0f364b57897cb8001014b813"
          }
        },
        "a4f0a532bc814e07b8ff8d93539a6e77": {
          "model_module": "@jupyter-widgets/controls",
          "model_module_version": "1.5.0",
          "model_name": "HTMLModel",
          "state": {
            "_dom_classes": [],
            "_model_module": "@jupyter-widgets/controls",
            "_model_module_version": "1.5.0",
            "_model_name": "HTMLModel",
            "_view_count": null,
            "_view_module": "@jupyter-widgets/controls",
            "_view_module_version": "1.5.0",
            "_view_name": "HTMLView",
            "description": "",
            "description_tooltip": null,
            "layout": "IPY_MODEL_f492fca1ed194b39bcb4faba4d8780d8",
            "placeholder": "​",
            "style": "IPY_MODEL_46afdc6e88bc47a89662e2ae976c0a8a",
            "value": " 467M/467M [00:01&lt;00:00, 263MB/s]"
          }
        },
        "aa43141e99c84b4a96e3d0dd80b611cd": {
          "model_module": "@jupyter-widgets/controls",
          "model_module_version": "1.5.0",
          "model_name": "DescriptionStyleModel",
          "state": {
            "_model_module": "@jupyter-widgets/controls",
            "_model_module_version": "1.5.0",
            "_model_name": "DescriptionStyleModel",
            "_view_count": null,
            "_view_module": "@jupyter-widgets/base",
            "_view_module_version": "1.2.0",
            "_view_name": "StyleView",
            "description_width": ""
          }
        },
        "aaf223d256254a3c9de55ce208dc8eed": {
          "model_module": "@jupyter-widgets/controls",
          "model_module_version": "1.5.0",
          "model_name": "FloatProgressModel",
          "state": {
            "_dom_classes": [],
            "_model_module": "@jupyter-widgets/controls",
            "_model_module_version": "1.5.0",
            "_model_name": "FloatProgressModel",
            "_view_count": null,
            "_view_module": "@jupyter-widgets/controls",
            "_view_module_version": "1.5.0",
            "_view_name": "ProgressView",
            "bar_style": "success",
            "description": "",
            "description_tooltip": null,
            "layout": "IPY_MODEL_5e1c87830fef4258a457412c71ae2550",
            "max": 798011,
            "min": 0,
            "orientation": "horizontal",
            "style": "IPY_MODEL_d7b668f34569464dbe5fff8602816a3c",
            "value": 798011
          }
        },
        "abc554a5c6b14e25a841f8837d78b7f5": {
          "model_module": "@jupyter-widgets/controls",
          "model_module_version": "1.5.0",
          "model_name": "HBoxModel",
          "state": {
            "_dom_classes": [],
            "_model_module": "@jupyter-widgets/controls",
            "_model_module_version": "1.5.0",
            "_model_name": "HBoxModel",
            "_view_count": null,
            "_view_module": "@jupyter-widgets/controls",
            "_view_module_version": "1.5.0",
            "_view_name": "HBoxView",
            "box_style": "",
            "children": [
              "IPY_MODEL_23793e7ef10f4702bd6d4fdcf38bb9aa",
              "IPY_MODEL_1c72a606cbbc4d1382a5454f729319a2",
              "IPY_MODEL_cdcf3e36af3c4a5ab7e3d6548164ea36"
            ],
            "layout": "IPY_MODEL_e233ab02834f413ab65ea7924afab989"
          }
        },
        "ac355baba00b49ca9409a13b4db0caaa": {
          "model_module": "@jupyter-widgets/base",
          "model_module_version": "1.2.0",
          "model_name": "LayoutModel",
          "state": {
            "_model_module": "@jupyter-widgets/base",
            "_model_module_version": "1.2.0",
            "_model_name": "LayoutModel",
            "_view_count": null,
            "_view_module": "@jupyter-widgets/base",
            "_view_module_version": "1.2.0",
            "_view_name": "LayoutView",
            "align_content": null,
            "align_items": null,
            "align_self": null,
            "border": null,
            "bottom": null,
            "display": null,
            "flex": null,
            "flex_flow": null,
            "grid_area": null,
            "grid_auto_columns": null,
            "grid_auto_flow": null,
            "grid_auto_rows": null,
            "grid_column": null,
            "grid_gap": null,
            "grid_row": null,
            "grid_template_areas": null,
            "grid_template_columns": null,
            "grid_template_rows": null,
            "height": null,
            "justify_content": null,
            "justify_items": null,
            "left": null,
            "margin": null,
            "max_height": null,
            "max_width": null,
            "min_height": null,
            "min_width": null,
            "object_fit": null,
            "object_position": null,
            "order": null,
            "overflow": null,
            "overflow_x": null,
            "overflow_y": null,
            "padding": null,
            "right": null,
            "top": null,
            "visibility": null,
            "width": null
          }
        },
        "aed6a7e8ea7345528fc2d58d20989725": {
          "model_module": "@jupyter-widgets/base",
          "model_module_version": "1.2.0",
          "model_name": "LayoutModel",
          "state": {
            "_model_module": "@jupyter-widgets/base",
            "_model_module_version": "1.2.0",
            "_model_name": "LayoutModel",
            "_view_count": null,
            "_view_module": "@jupyter-widgets/base",
            "_view_module_version": "1.2.0",
            "_view_name": "LayoutView",
            "align_content": null,
            "align_items": null,
            "align_self": null,
            "border": null,
            "bottom": null,
            "display": null,
            "flex": null,
            "flex_flow": null,
            "grid_area": null,
            "grid_auto_columns": null,
            "grid_auto_flow": null,
            "grid_auto_rows": null,
            "grid_column": null,
            "grid_gap": null,
            "grid_row": null,
            "grid_template_areas": null,
            "grid_template_columns": null,
            "grid_template_rows": null,
            "height": null,
            "justify_content": null,
            "justify_items": null,
            "left": null,
            "margin": null,
            "max_height": null,
            "max_width": null,
            "min_height": null,
            "min_width": null,
            "object_fit": null,
            "object_position": null,
            "order": null,
            "overflow": null,
            "overflow_x": null,
            "overflow_y": null,
            "padding": null,
            "right": null,
            "top": null,
            "visibility": null,
            "width": null
          }
        },
        "b101815389a54d4d96ef121f7e738bfe": {
          "model_module": "@jupyter-widgets/controls",
          "model_module_version": "1.5.0",
          "model_name": "DescriptionStyleModel",
          "state": {
            "_model_module": "@jupyter-widgets/controls",
            "_model_module_version": "1.5.0",
            "_model_name": "DescriptionStyleModel",
            "_view_count": null,
            "_view_module": "@jupyter-widgets/base",
            "_view_module_version": "1.2.0",
            "_view_name": "StyleView",
            "description_width": ""
          }
        },
        "b51cf24fef0245bc9637da5c90013163": {
          "model_module": "@jupyter-widgets/base",
          "model_module_version": "1.2.0",
          "model_name": "LayoutModel",
          "state": {
            "_model_module": "@jupyter-widgets/base",
            "_model_module_version": "1.2.0",
            "_model_name": "LayoutModel",
            "_view_count": null,
            "_view_module": "@jupyter-widgets/base",
            "_view_module_version": "1.2.0",
            "_view_name": "LayoutView",
            "align_content": null,
            "align_items": null,
            "align_self": null,
            "border": null,
            "bottom": null,
            "display": null,
            "flex": null,
            "flex_flow": null,
            "grid_area": null,
            "grid_auto_columns": null,
            "grid_auto_flow": null,
            "grid_auto_rows": null,
            "grid_column": null,
            "grid_gap": null,
            "grid_row": null,
            "grid_template_areas": null,
            "grid_template_columns": null,
            "grid_template_rows": null,
            "height": null,
            "justify_content": null,
            "justify_items": null,
            "left": null,
            "margin": null,
            "max_height": null,
            "max_width": null,
            "min_height": null,
            "min_width": null,
            "object_fit": null,
            "object_position": null,
            "order": null,
            "overflow": null,
            "overflow_x": null,
            "overflow_y": null,
            "padding": null,
            "right": null,
            "top": null,
            "visibility": null,
            "width": null
          }
        },
        "ba69001e0ca448a29d5cadee5774c761": {
          "model_module": "@jupyter-widgets/controls",
          "model_module_version": "1.5.0",
          "model_name": "ProgressStyleModel",
          "state": {
            "_model_module": "@jupyter-widgets/controls",
            "_model_module_version": "1.5.0",
            "_model_name": "ProgressStyleModel",
            "_view_count": null,
            "_view_module": "@jupyter-widgets/base",
            "_view_module_version": "1.2.0",
            "_view_name": "StyleView",
            "bar_color": null,
            "description_width": ""
          }
        },
        "bc327f23edf747c0aeb4f6dfe969f444": {
          "model_module": "@jupyter-widgets/base",
          "model_module_version": "1.2.0",
          "model_name": "LayoutModel",
          "state": {
            "_model_module": "@jupyter-widgets/base",
            "_model_module_version": "1.2.0",
            "_model_name": "LayoutModel",
            "_view_count": null,
            "_view_module": "@jupyter-widgets/base",
            "_view_module_version": "1.2.0",
            "_view_name": "LayoutView",
            "align_content": null,
            "align_items": null,
            "align_self": null,
            "border": null,
            "bottom": null,
            "display": null,
            "flex": null,
            "flex_flow": null,
            "grid_area": null,
            "grid_auto_columns": null,
            "grid_auto_flow": null,
            "grid_auto_rows": null,
            "grid_column": null,
            "grid_gap": null,
            "grid_row": null,
            "grid_template_areas": null,
            "grid_template_columns": null,
            "grid_template_rows": null,
            "height": null,
            "justify_content": null,
            "justify_items": null,
            "left": null,
            "margin": null,
            "max_height": null,
            "max_width": null,
            "min_height": null,
            "min_width": null,
            "object_fit": null,
            "object_position": null,
            "order": null,
            "overflow": null,
            "overflow_x": null,
            "overflow_y": null,
            "padding": null,
            "right": null,
            "top": null,
            "visibility": null,
            "width": null
          }
        },
        "bc70b7127de44b89a23c05a7ecdb856a": {
          "model_module": "@jupyter-widgets/controls",
          "model_module_version": "1.5.0",
          "model_name": "ProgressStyleModel",
          "state": {
            "_model_module": "@jupyter-widgets/controls",
            "_model_module_version": "1.5.0",
            "_model_name": "ProgressStyleModel",
            "_view_count": null,
            "_view_module": "@jupyter-widgets/base",
            "_view_module_version": "1.2.0",
            "_view_name": "StyleView",
            "bar_color": null,
            "description_width": ""
          }
        },
        "bcb89bee971949eb8e773d71b9c3ad63": {
          "model_module": "@jupyter-widgets/controls",
          "model_module_version": "1.5.0",
          "model_name": "HBoxModel",
          "state": {
            "_dom_classes": [],
            "_model_module": "@jupyter-widgets/controls",
            "_model_module_version": "1.5.0",
            "_model_name": "HBoxModel",
            "_view_count": null,
            "_view_module": "@jupyter-widgets/controls",
            "_view_module_version": "1.5.0",
            "_view_name": "HBoxView",
            "box_style": "",
            "children": [
              "IPY_MODEL_14ddfd0329fc43699083589f2c2ea2a1",
              "IPY_MODEL_f76b3f27aeb74b74996a350aaa6730fb",
              "IPY_MODEL_a4f0a532bc814e07b8ff8d93539a6e77"
            ],
            "layout": "IPY_MODEL_aed6a7e8ea7345528fc2d58d20989725"
          }
        },
        "cdcf3e36af3c4a5ab7e3d6548164ea36": {
          "model_module": "@jupyter-widgets/controls",
          "model_module_version": "1.5.0",
          "model_name": "HTMLModel",
          "state": {
            "_dom_classes": [],
            "_model_module": "@jupyter-widgets/controls",
            "_model_module_version": "1.5.0",
            "_model_name": "HTMLModel",
            "_view_count": null,
            "_view_module": "@jupyter-widgets/controls",
            "_view_module_version": "1.5.0",
            "_view_name": "HTMLView",
            "description": "",
            "description_tooltip": null,
            "layout": "IPY_MODEL_ac355baba00b49ca9409a13b4db0caaa",
            "placeholder": "​",
            "style": "IPY_MODEL_302ef002b42c4f01aa67353500fa0a52",
            "value": " 440M/440M [00:01&lt;00:00, 289MB/s]"
          }
        },
        "d094386293124325bed1371578040fd6": {
          "model_module": "@jupyter-widgets/base",
          "model_module_version": "1.2.0",
          "model_name": "LayoutModel",
          "state": {
            "_model_module": "@jupyter-widgets/base",
            "_model_module_version": "1.2.0",
            "_model_name": "LayoutModel",
            "_view_count": null,
            "_view_module": "@jupyter-widgets/base",
            "_view_module_version": "1.2.0",
            "_view_name": "LayoutView",
            "align_content": null,
            "align_items": null,
            "align_self": null,
            "border": null,
            "bottom": null,
            "display": null,
            "flex": null,
            "flex_flow": null,
            "grid_area": null,
            "grid_auto_columns": null,
            "grid_auto_flow": null,
            "grid_auto_rows": null,
            "grid_column": null,
            "grid_gap": null,
            "grid_row": null,
            "grid_template_areas": null,
            "grid_template_columns": null,
            "grid_template_rows": null,
            "height": null,
            "justify_content": null,
            "justify_items": null,
            "left": null,
            "margin": null,
            "max_height": null,
            "max_width": null,
            "min_height": null,
            "min_width": null,
            "object_fit": null,
            "object_position": null,
            "order": null,
            "overflow": null,
            "overflow_x": null,
            "overflow_y": null,
            "padding": null,
            "right": null,
            "top": null,
            "visibility": null,
            "width": null
          }
        },
        "d7b668f34569464dbe5fff8602816a3c": {
          "model_module": "@jupyter-widgets/controls",
          "model_module_version": "1.5.0",
          "model_name": "ProgressStyleModel",
          "state": {
            "_model_module": "@jupyter-widgets/controls",
            "_model_module_version": "1.5.0",
            "_model_name": "ProgressStyleModel",
            "_view_count": null,
            "_view_module": "@jupyter-widgets/base",
            "_view_module_version": "1.2.0",
            "_view_name": "StyleView",
            "bar_color": null,
            "description_width": ""
          }
        },
        "dbe618177d5248c8a599689e4e747020": {
          "model_module": "@jupyter-widgets/controls",
          "model_module_version": "1.5.0",
          "model_name": "HBoxModel",
          "state": {
            "_dom_classes": [],
            "_model_module": "@jupyter-widgets/controls",
            "_model_module_version": "1.5.0",
            "_model_name": "HBoxModel",
            "_view_count": null,
            "_view_module": "@jupyter-widgets/controls",
            "_view_module_version": "1.5.0",
            "_view_name": "HBoxView",
            "box_style": "",
            "children": [
              "IPY_MODEL_3e59909ab33043e6b96755f96c57ba96",
              "IPY_MODEL_aaf223d256254a3c9de55ce208dc8eed",
              "IPY_MODEL_2e4e8b90d56c43879572f09c19c4ab46"
            ],
            "layout": "IPY_MODEL_241f4ca5d4dc494d849c54be79cae244"
          }
        },
        "df58834aea5a4dfe8fafa19db80a9696": {
          "model_module": "@jupyter-widgets/controls",
          "model_module_version": "1.5.0",
          "model_name": "DescriptionStyleModel",
          "state": {
            "_model_module": "@jupyter-widgets/controls",
            "_model_module_version": "1.5.0",
            "_model_name": "DescriptionStyleModel",
            "_view_count": null,
            "_view_module": "@jupyter-widgets/base",
            "_view_module_version": "1.2.0",
            "_view_name": "StyleView",
            "description_width": ""
          }
        },
        "e233ab02834f413ab65ea7924afab989": {
          "model_module": "@jupyter-widgets/base",
          "model_module_version": "1.2.0",
          "model_name": "LayoutModel",
          "state": {
            "_model_module": "@jupyter-widgets/base",
            "_model_module_version": "1.2.0",
            "_model_name": "LayoutModel",
            "_view_count": null,
            "_view_module": "@jupyter-widgets/base",
            "_view_module_version": "1.2.0",
            "_view_name": "LayoutView",
            "align_content": null,
            "align_items": null,
            "align_self": null,
            "border": null,
            "bottom": null,
            "display": null,
            "flex": null,
            "flex_flow": null,
            "grid_area": null,
            "grid_auto_columns": null,
            "grid_auto_flow": null,
            "grid_auto_rows": null,
            "grid_column": null,
            "grid_gap": null,
            "grid_row": null,
            "grid_template_areas": null,
            "grid_template_columns": null,
            "grid_template_rows": null,
            "height": null,
            "justify_content": null,
            "justify_items": null,
            "left": null,
            "margin": null,
            "max_height": null,
            "max_width": null,
            "min_height": null,
            "min_width": null,
            "object_fit": null,
            "object_position": null,
            "order": null,
            "overflow": null,
            "overflow_x": null,
            "overflow_y": null,
            "padding": null,
            "right": null,
            "top": null,
            "visibility": null,
            "width": null
          }
        },
        "e7026284b60e41f9aad7994a3de39dbb": {
          "model_module": "@jupyter-widgets/controls",
          "model_module_version": "1.5.0",
          "model_name": "HTMLModel",
          "state": {
            "_dom_classes": [],
            "_model_module": "@jupyter-widgets/controls",
            "_model_module_version": "1.5.0",
            "_model_name": "HTMLModel",
            "_view_count": null,
            "_view_module": "@jupyter-widgets/controls",
            "_view_module_version": "1.5.0",
            "_view_name": "HTMLView",
            "description": "",
            "description_tooltip": null,
            "layout": "IPY_MODEL_6c59de5909fa41a1900d282000f3310b",
            "placeholder": "​",
            "style": "IPY_MODEL_345cfb9f3ad843f6a53a80fa18912949",
            "value": " 760/760 [00:00&lt;00:00, 29.0kB/s]"
          }
        },
        "ee780fe6637e44e6b1063962b9aafe0e": {
          "model_module": "@jupyter-widgets/base",
          "model_module_version": "1.2.0",
          "model_name": "LayoutModel",
          "state": {
            "_model_module": "@jupyter-widgets/base",
            "_model_module_version": "1.2.0",
            "_model_name": "LayoutModel",
            "_view_count": null,
            "_view_module": "@jupyter-widgets/base",
            "_view_module_version": "1.2.0",
            "_view_name": "LayoutView",
            "align_content": null,
            "align_items": null,
            "align_self": null,
            "border": null,
            "bottom": null,
            "display": null,
            "flex": null,
            "flex_flow": null,
            "grid_area": null,
            "grid_auto_columns": null,
            "grid_auto_flow": null,
            "grid_auto_rows": null,
            "grid_column": null,
            "grid_gap": null,
            "grid_row": null,
            "grid_template_areas": null,
            "grid_template_columns": null,
            "grid_template_rows": null,
            "height": null,
            "justify_content": null,
            "justify_items": null,
            "left": null,
            "margin": null,
            "max_height": null,
            "max_width": null,
            "min_height": null,
            "min_width": null,
            "object_fit": null,
            "object_position": null,
            "order": null,
            "overflow": null,
            "overflow_x": null,
            "overflow_y": null,
            "padding": null,
            "right": null,
            "top": null,
            "visibility": null,
            "width": null
          }
        },
        "f492fca1ed194b39bcb4faba4d8780d8": {
          "model_module": "@jupyter-widgets/base",
          "model_module_version": "1.2.0",
          "model_name": "LayoutModel",
          "state": {
            "_model_module": "@jupyter-widgets/base",
            "_model_module_version": "1.2.0",
            "_model_name": "LayoutModel",
            "_view_count": null,
            "_view_module": "@jupyter-widgets/base",
            "_view_module_version": "1.2.0",
            "_view_name": "LayoutView",
            "align_content": null,
            "align_items": null,
            "align_self": null,
            "border": null,
            "bottom": null,
            "display": null,
            "flex": null,
            "flex_flow": null,
            "grid_area": null,
            "grid_auto_columns": null,
            "grid_auto_flow": null,
            "grid_auto_rows": null,
            "grid_column": null,
            "grid_gap": null,
            "grid_row": null,
            "grid_template_areas": null,
            "grid_template_columns": null,
            "grid_template_rows": null,
            "height": null,
            "justify_content": null,
            "justify_items": null,
            "left": null,
            "margin": null,
            "max_height": null,
            "max_width": null,
            "min_height": null,
            "min_width": null,
            "object_fit": null,
            "object_position": null,
            "order": null,
            "overflow": null,
            "overflow_x": null,
            "overflow_y": null,
            "padding": null,
            "right": null,
            "top": null,
            "visibility": null,
            "width": null
          }
        },
        "f76b3f27aeb74b74996a350aaa6730fb": {
          "model_module": "@jupyter-widgets/controls",
          "model_module_version": "1.5.0",
          "model_name": "FloatProgressModel",
          "state": {
            "_dom_classes": [],
            "_model_module": "@jupyter-widgets/controls",
            "_model_module_version": "1.5.0",
            "_model_name": "FloatProgressModel",
            "_view_count": null,
            "_view_module": "@jupyter-widgets/controls",
            "_view_module_version": "1.5.0",
            "_view_name": "ProgressView",
            "bar_style": "success",
            "description": "",
            "description_tooltip": null,
            "layout": "IPY_MODEL_d094386293124325bed1371578040fd6",
            "max": 467042463,
            "min": 0,
            "orientation": "horizontal",
            "style": "IPY_MODEL_bc70b7127de44b89a23c05a7ecdb856a",
            "value": 467042463
          }
        }
      }
    }
  },
  "nbformat": 4,
  "nbformat_minor": 0
}